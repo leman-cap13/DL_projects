{
  "nbformat": 4,
  "nbformat_minor": 0,
  "metadata": {
    "colab": {
      "provenance": [],
      "gpuType": "T4",
      "include_colab_link": true
    },
    "kernelspec": {
      "name": "python3",
      "display_name": "Python 3"
    },
    "language_info": {
      "name": "python"
    },
    "accelerator": "GPU"
  },
  "cells": [
    {
      "cell_type": "markdown",
      "metadata": {
        "id": "view-in-github",
        "colab_type": "text"
      },
      "source": [
        "<a href=\"https://colab.research.google.com/github/leman-cap13/DL_projects/blob/main/Neural_Network.ipynb\" target=\"_parent\"><img src=\"https://colab.research.google.com/assets/colab-badge.svg\" alt=\"Open In Colab\"/></a>"
      ]
    },
    {
      "cell_type": "code",
      "execution_count": null,
      "metadata": {
        "colab": {
          "base_uri": "https://localhost:8080/"
        },
        "id": "NVyg0VE483rT",
        "outputId": "568bea21-4f34-4511-f93c-d3e1b1e73f29"
      },
      "outputs": [
        {
          "output_type": "execute_result",
          "data": {
            "text/plain": [
              "<Dense name=dense, built=False>"
            ]
          },
          "metadata": {},
          "execution_count": 1
        }
      ],
      "source": [
        "import tensorflow as tf\n",
        "tf.keras.layers.Dense(10,activation='relu',kernel_initializer='he_normal')"
      ]
    },
    {
      "cell_type": "code",
      "source": [
        "import numpy as np\n",
        "import matplotlib.pyplot as plt\n",
        "def leaky_relu(z,alpha=0.01):\n",
        "  return np.maximum(alpha*z,z)\n",
        "\n",
        "z=np.linspace(-5,5,200)\n",
        "\n",
        "plt.plot(z,leaky_relu(z,0.05),'b-',linewidth=2,\n",
        "         label=r'Leaky ReLu($\\alpha=0.05$)')\n",
        "\n",
        "plt.plot([-5,5],[0,0],'k-')\n",
        "plt.grid(True)\n",
        "plt.xlabel(\"$z$\")\n",
        "plt.legend(loc='upper left',fontsize=16)\n",
        "plt.show()"
      ],
      "metadata": {
        "colab": {
          "base_uri": "https://localhost:8080/",
          "height": 449
        },
        "id": "Ozqw5VHf9ETQ",
        "outputId": "c5bbe150-9216-4b93-ec53-bf594ebfbe42"
      },
      "execution_count": null,
      "outputs": [
        {
          "output_type": "display_data",
          "data": {
            "text/plain": [
              "<Figure size 640x480 with 1 Axes>"
            ],
            "image/png": "[encoded data removed]"
          },
          "metadata": {}
        }
      ]
    },
    {
      "cell_type": "code",
      "source": [
        "leaky_relu=tf.keras.layers.LeakyReLU(negative_slope=0.05)\n",
        "\n",
        "\n",
        "tf.keras.layers.Dense(10,activation=leaky_relu,kernel_initializer='he_normal')\n"
      ],
      "metadata": {
        "id": "LIxLH-FH_8Gf",
        "colab": {
          "base_uri": "https://localhost:8080/"
        },
        "outputId": "3985283d-fbc1-4eb1-c63d-7b7a3adbf644"
      },
      "execution_count": null,
      "outputs": [
        {
          "output_type": "execute_result",
          "data": {
            "text/plain": [
              "<Dense name=dense_1, built=False>"
            ]
          },
          "metadata": {},
          "execution_count": 3
        }
      ]
    },
    {
      "cell_type": "code",
      "source": [
        "model=tf.keras.Sequential([\n",
        "    tf.keras.layers.Dense(10,activation='leaky_relu',\n",
        "                          kernel_initializer='he_normal')\n",
        "])"
      ],
      "metadata": {
        "id": "yz-pNImtHFqy"
      },
      "execution_count": null,
      "outputs": []
    },
    {
      "cell_type": "code",
      "source": [
        "model=tf.keras.Sequential([\n",
        "    tf.keras.layers.Dense(10,kernel_initializer='he_normal'),\n",
        "    tf.keras.layers.LeakyReLU(negative_slope=0.2)\n",
        "\n",
        "])"
      ],
      "metadata": {
        "id": "M0mjNzcEHk_x"
      },
      "execution_count": null,
      "outputs": []
    },
    {
      "cell_type": "code",
      "source": [
        "fashion_mnist=tf.keras.datasets.fashion_mnist.load_data()\n",
        "(X_train_full,y_train_full), (X_test,y_test)=fashion_mnist\n",
        "X_train,y_train=X_train_full[:-5000],y_train_full[:-5000]\n",
        "X_valid,y_valid=X_train_full[-5000:],y_train_full[-5000:]\n",
        "X_train,X_valid,X_test=X_train/255.0,X_valid/255.0, X_test/255.0"
      ],
      "metadata": {
        "id": "kEXyxCSVGsi6",
        "colab": {
          "base_uri": "https://localhost:8080/"
        },
        "outputId": "e059f550-fd09-4aca-c97c-020761d48337"
      },
      "execution_count": null,
      "outputs": [
        {
          "output_type": "stream",
          "name": "stdout",
          "text": [
            "Downloading data from https://storage.googleapis.com/tensorflow/tf-keras-datasets/train-labels-idx1-ubyte.gz\n",
            "\u001b[1m29515/29515\u001b[0m \u001b[32m━━━━━━━━━━━━━━━━━━━━\u001b[0m\u001b[37m\u001b[0m \u001b[1m0s\u001b[0m 0us/step\n",
            "Downloading data from https://storage.googleapis.com/tensorflow/tf-keras-datasets/train-images-idx3-ubyte.gz\n",
            "\u001b[1m26421880/26421880\u001b[0m \u001b[32m━━━━━━━━━━━━━━━━━━━━\u001b[0m\u001b[37m\u001b[0m \u001b[1m0s\u001b[0m 0us/step\n",
            "Downloading data from https://storage.googleapis.com/tensorflow/tf-keras-datasets/t10k-labels-idx1-ubyte.gz\n",
            "\u001b[1m5148/5148\u001b[0m \u001b[32m━━━━━━━━━━━━━━━━━━━━\u001b[0m\u001b[37m\u001b[0m \u001b[1m0s\u001b[0m 1us/step\n",
            "Downloading data from https://storage.googleapis.com/tensorflow/tf-keras-datasets/t10k-images-idx3-ubyte.gz\n",
            "\u001b[1m4422102/4422102\u001b[0m \u001b[32m━━━━━━━━━━━━━━━━━━━━\u001b[0m\u001b[37m\u001b[0m \u001b[1m0s\u001b[0m 0us/step\n"
          ]
        }
      ]
    },
    {
      "cell_type": "code",
      "source": [
        "model=tf.keras.Sequential([\n",
        "    tf.keras.layers.Input(shape=[28,28]),\n",
        "    tf.keras.layers.Flatten(),\n",
        "    tf.keras.layers.Dense(300,kernel_initializer= 'he_normal'),\n",
        "    tf.keras.layers.PReLU(),\n",
        "    tf.keras.layers.Dense(100,activation='leaky_relu',\n",
        "                          kernel_initializer='he_normal'),\n",
        "    tf.keras.layers.Dense(10,activation='softmax',\n",
        "                          kernel_initializer='glorot_normal')\n",
        "\n",
        "\n",
        "])\n",
        "\n",
        "\n",
        "model.compile(loss='sparse_categorical_crossentropy',\n",
        "              optimizer=tf.keras.optimizers.SGD(learning_rate=0.001),\n",
        "              metrics=['accuracy'])\n",
        "\n",
        "model.fit(X_train,y_train,epochs=10,validation_data=(X_valid,y_valid))"
      ],
      "metadata": {
        "colab": {
          "base_uri": "https://localhost:8080/"
        },
        "id": "Wup_thVmJdrv",
        "outputId": "4cb917fd-4f6c-4995-bf31-2c19a1fa5f7e"
      },
      "execution_count": null,
      "outputs": [
        {
          "output_type": "stream",
          "name": "stdout",
          "text": [
            "Epoch 1/10\n",
            "\u001b[1m1719/1719\u001b[0m \u001b[32m━━━━━━━━━━━━━━━━━━━━\u001b[0m\u001b[37m\u001b[0m \u001b[1m9s\u001b[0m 4ms/step - accuracy: 0.4271 - loss: 1.7879 - val_accuracy: 0.7196 - val_loss: 0.9297\n",
            "Epoch 2/10\n",
            "\u001b[1m1719/1719\u001b[0m \u001b[32m━━━━━━━━━━━━━━━━━━━━\u001b[0m\u001b[37m\u001b[0m \u001b[1m7s\u001b[0m 3ms/step - accuracy: 0.7292 - loss: 0.8834 - val_accuracy: 0.7666 - val_loss: 0.7251\n",
            "Epoch 3/10\n",
            "\u001b[1m1719/1719\u001b[0m \u001b[32m━━━━━━━━━━━━━━━━━━━━\u001b[0m\u001b[37m\u001b[0m \u001b[1m7s\u001b[0m 4ms/step - accuracy: 0.7693 - loss: 0.7162 - val_accuracy: 0.7916 - val_loss: 0.6408\n",
            "Epoch 4/10\n",
            "\u001b[1m1719/1719\u001b[0m \u001b[32m━━━━━━━━━━━━━━━━━━━━\u001b[0m\u001b[37m\u001b[0m \u001b[1m10s\u001b[0m 3ms/step - accuracy: 0.7882 - loss: 0.6488 - val_accuracy: 0.8066 - val_loss: 0.5910\n",
            "Epoch 5/10\n",
            "\u001b[1m1719/1719\u001b[0m \u001b[32m━━━━━━━━━━━━━━━━━━━━\u001b[0m\u001b[37m\u001b[0m \u001b[1m9s\u001b[0m 3ms/step - accuracy: 0.8040 - loss: 0.5966 - val_accuracy: 0.8118 - val_loss: 0.5590\n",
            "Epoch 6/10\n",
            "\u001b[1m1719/1719\u001b[0m \u001b[32m━━━━━━━━━━━━━━━━━━━━\u001b[0m\u001b[37m\u001b[0m \u001b[1m5s\u001b[0m 2ms/step - accuracy: 0.8144 - loss: 0.5681 - val_accuracy: 0.8180 - val_loss: 0.5366\n",
            "Epoch 7/10\n",
            "\u001b[1m1719/1719\u001b[0m \u001b[32m━━━━━━━━━━━━━━━━━━━━\u001b[0m\u001b[37m\u001b[0m \u001b[1m6s\u001b[0m 3ms/step - accuracy: 0.8184 - loss: 0.5445 - val_accuracy: 0.8230 - val_loss: 0.5162\n",
            "Epoch 8/10\n",
            "\u001b[1m1719/1719\u001b[0m \u001b[32m━━━━━━━━━━━━━━━━━━━━\u001b[0m\u001b[37m\u001b[0m \u001b[1m4s\u001b[0m 2ms/step - accuracy: 0.8255 - loss: 0.5238 - val_accuracy: 0.8262 - val_loss: 0.4978\n",
            "Epoch 9/10\n",
            "\u001b[1m1719/1719\u001b[0m \u001b[32m━━━━━━━━━━━━━━━━━━━━\u001b[0m\u001b[37m\u001b[0m \u001b[1m4s\u001b[0m 2ms/step - accuracy: 0.8300 - loss: 0.5089 - val_accuracy: 0.8284 - val_loss: 0.4886\n",
            "Epoch 10/10\n",
            "\u001b[1m1719/1719\u001b[0m \u001b[32m━━━━━━━━━━━━━━━━━━━━\u001b[0m\u001b[37m\u001b[0m \u001b[1m5s\u001b[0m 3ms/step - accuracy: 0.8317 - loss: 0.4928 - val_accuracy: 0.8324 - val_loss: 0.4763\n"
          ]
        },
        {
          "output_type": "execute_result",
          "data": {
            "text/plain": [
              "<keras.src.callbacks.history.History at 0x79da2c4fd750>"
            ]
          },
          "metadata": {},
          "execution_count": 7
        }
      ]
    },
    {
      "cell_type": "markdown",
      "source": [
        "#ELU"
      ],
      "metadata": {
        "id": "MCo1-_j9JdoR"
      }
    },
    {
      "cell_type": "code",
      "source": [
        "tf.keras.layers.Dense(10,activation='elu',kernel_initializer= 'he_normal')"
      ],
      "metadata": {
        "colab": {
          "base_uri": "https://localhost:8080/"
        },
        "id": "3zMTHe4qLpzN",
        "outputId": "469995b5-5603-4433-dd2d-fa0c545e5d02"
      },
      "execution_count": null,
      "outputs": [
        {
          "output_type": "execute_result",
          "data": {
            "text/plain": [
              "<Dense name=dense_7, built=False>"
            ]
          },
          "metadata": {},
          "execution_count": 8
        }
      ]
    },
    {
      "cell_type": "code",
      "source": [
        "tf.random.set_seed(42)\n",
        "\n",
        "model=tf.keras.Sequential()\n",
        "model.add(tf.keras.layers.Input(shape=[28,28]))\n",
        "model.add(tf.keras.layers.Flatten())\n",
        "for i in range(100):\n",
        "  model.add(tf.keras.layers.Dense(100,activation='selu',\n",
        "                                  kernel_initializer='lecun_normal'))\n",
        "model.add(tf.keras.layers.Dense(10,activation='softmax'))\n"
      ],
      "metadata": {
        "id": "-4wIm4x3MPkD"
      },
      "execution_count": null,
      "outputs": []
    },
    {
      "cell_type": "code",
      "source": [
        "class_names=['t-shirt','trousers','pullover','dress','coat','sandal','shift','snearker','bag','ankle boot']"
      ],
      "metadata": {
        "id": "3jPEA5YrNKu9"
      },
      "execution_count": null,
      "outputs": []
    },
    {
      "cell_type": "code",
      "source": [
        "pixel_means=X_train.mean(axis=0,keepdims=True)\n",
        "pixel_stds=X_train.std(axis=0,keepdims=True)\n",
        "X_train_scaled=(X_train-pixel_means)/pixel_stds\n",
        "X_valid_scaled=(X_valid-pixel_means)/pixel_stds\n",
        "X_test_scaled=(X_test-pixel_means)/pixel_stds"
      ],
      "metadata": {
        "id": "zxQmBnpDN_gc"
      },
      "execution_count": null,
      "outputs": []
    },
    {
      "cell_type": "code",
      "source": [
        "model.compile(loss='sparse_categorical_crossentropy',\n",
        "              optimizer=tf.keras.optimizers.SGD(learning_rate=0.001),\n",
        "              metrics=['accuracy'])"
      ],
      "metadata": {
        "id": "0Zvw1yEhO_su"
      },
      "execution_count": null,
      "outputs": []
    },
    {
      "cell_type": "markdown",
      "source": [
        "variance yayilma kok alti variance standart deviation"
      ],
      "metadata": {
        "id": "Pgg4zXhDQTU6"
      }
    },
    {
      "cell_type": "code",
      "source": [
        "model.fit(X_train_scaled,y_train,epochs=5,validation_data=(X_valid_scaled,y_valid))"
      ],
      "metadata": {
        "colab": {
          "base_uri": "https://localhost:8080/"
        },
        "id": "0OlpQXd_PeFz",
        "outputId": "6fa6e80a-8664-4ac1-fab6-adf39ffd064e"
      },
      "execution_count": null,
      "outputs": [
        {
          "output_type": "stream",
          "name": "stdout",
          "text": [
            "Epoch 1/5\n",
            "\u001b[1m1719/1719\u001b[0m \u001b[32m━━━━━━━━━━━━━━━━━━━━\u001b[0m\u001b[37m\u001b[0m \u001b[1m23s\u001b[0m 10ms/step - accuracy: 0.3448 - loss: 1.7210 - val_accuracy: 0.6346 - val_loss: 0.9607\n",
            "Epoch 2/5\n",
            "\u001b[1m1719/1719\u001b[0m \u001b[32m━━━━━━━━━━━━━━━━━━━━\u001b[0m\u001b[37m\u001b[0m \u001b[1m14s\u001b[0m 8ms/step - accuracy: 0.6637 - loss: 0.8893 - val_accuracy: 0.7180 - val_loss: 0.7756\n",
            "Epoch 3/5\n",
            "\u001b[1m1719/1719\u001b[0m \u001b[32m━━━━━━━━━━━━━━━━━━━━\u001b[0m\u001b[37m\u001b[0m \u001b[1m20s\u001b[0m 8ms/step - accuracy: 0.7311 - loss: 0.7162 - val_accuracy: 0.7646 - val_loss: 0.6560\n",
            "Epoch 4/5\n",
            "\u001b[1m1719/1719\u001b[0m \u001b[32m━━━━━━━━━━━━━━━━━━━━\u001b[0m\u001b[37m\u001b[0m \u001b[1m21s\u001b[0m 8ms/step - accuracy: 0.7597 - loss: 0.6492 - val_accuracy: 0.7886 - val_loss: 0.5874\n",
            "Epoch 5/5\n",
            "\u001b[1m1719/1719\u001b[0m \u001b[32m━━━━━━━━━━━━━━━━━━━━\u001b[0m\u001b[37m\u001b[0m \u001b[1m21s\u001b[0m 8ms/step - accuracy: 0.7838 - loss: 0.5916 - val_accuracy: 0.8028 - val_loss: 0.5585\n"
          ]
        },
        {
          "output_type": "execute_result",
          "data": {
            "text/plain": [
              "<keras.src.callbacks.history.History at 0x79d9964f5750>"
            ]
          },
          "metadata": {},
          "execution_count": 13
        }
      ]
    },
    {
      "cell_type": "markdown",
      "source": [
        "EXERCISE"
      ],
      "metadata": {
        "id": "UTXU6BO-Ym26"
      }
    },
    {
      "cell_type": "code",
      "source": [
        "model=tf.keras.Sequential()\n",
        "model.add(tf.keras.layers.Input(shape=(28,28)))\n",
        "model.add(tf.keras.layers.Flatten())\n",
        "for i in range(100):\n",
        "  model.add(tf.keras.layers.Dense(100,activation='elu', kernel_initializer='he_normal'))\n",
        "\n",
        "model.add(tf.keras.layers.Dense(10,activation='softmax'))\n"
      ],
      "metadata": {
        "id": "XGeAmPBERC-x"
      },
      "execution_count": null,
      "outputs": []
    },
    {
      "cell_type": "code",
      "source": [
        "model.compile(loss='sparse_categorical_crossentropy',\n",
        "              optimizer=tf.keras.optimizers.SGD(learning_rate=0.001),\n",
        "              metrics=['accuracy'])"
      ],
      "metadata": {
        "id": "LdtZv96cRC7W"
      },
      "execution_count": null,
      "outputs": []
    },
    {
      "cell_type": "code",
      "source": [
        "model.fit(X_train,y_train,epochs=5,validation_data=(X_valid,y_valid))"
      ],
      "metadata": {
        "colab": {
          "base_uri": "https://localhost:8080/"
        },
        "id": "ElAEltfzRC4-",
        "outputId": "80d19349-e961-432c-a69f-006f59628fe2"
      },
      "execution_count": null,
      "outputs": [
        {
          "output_type": "stream",
          "name": "stdout",
          "text": [
            "Epoch 1/5\n",
            "\u001b[1m1719/1719\u001b[0m \u001b[32m━━━━━━━━━━━━━━━━━━━━\u001b[0m\u001b[37m\u001b[0m \u001b[1m26s\u001b[0m 12ms/step - accuracy: 0.2664 - loss: 2.0784 - val_accuracy: 0.3836 - val_loss: 1.5706\n",
            "Epoch 2/5\n",
            "\u001b[1m1719/1719\u001b[0m \u001b[32m━━━━━━━━━━━━━━━━━━━━\u001b[0m\u001b[37m\u001b[0m \u001b[1m38s\u001b[0m 12ms/step - accuracy: 0.4764 - loss: 1.2761 - val_accuracy: 0.6546 - val_loss: 0.8775\n",
            "Epoch 3/5\n",
            "\u001b[1m1719/1719\u001b[0m \u001b[32m━━━━━━━━━━━━━━━━━━━━\u001b[0m\u001b[37m\u001b[0m \u001b[1m13s\u001b[0m 8ms/step - accuracy: 0.5769 - loss: 1.0418 - val_accuracy: 0.6084 - val_loss: 0.9319\n",
            "Epoch 4/5\n",
            "\u001b[1m1719/1719\u001b[0m \u001b[32m━━━━━━━━━━━━━━━━━━━━\u001b[0m\u001b[37m\u001b[0m \u001b[1m22s\u001b[0m 8ms/step - accuracy: 0.6101 - loss: 0.9657 - val_accuracy: 0.6766 - val_loss: 0.7896\n",
            "Epoch 5/5\n",
            "\u001b[1m1719/1719\u001b[0m \u001b[32m━━━━━━━━━━━━━━━━━━━━\u001b[0m\u001b[37m\u001b[0m \u001b[1m27s\u001b[0m 12ms/step - accuracy: 0.6860 - loss: 0.7931 - val_accuracy: 0.7310 - val_loss: 0.7403\n"
          ]
        },
        {
          "output_type": "execute_result",
          "data": {
            "text/plain": [
              "<keras.src.callbacks.history.History at 0x79d989620d50>"
            ]
          },
          "metadata": {},
          "execution_count": 16
        }
      ]
    },
    {
      "cell_type": "markdown",
      "source": [
        "#Batch Normalization"
      ],
      "metadata": {
        "id": "7JsDztqgSxZ0"
      }
    },
    {
      "cell_type": "code",
      "source": [
        "tf.keras.backend.clear_session()\n",
        "tf.random.set_seed(42)"
      ],
      "metadata": {
        "id": "9oHtxon92-o7"
      },
      "execution_count": null,
      "outputs": []
    },
    {
      "cell_type": "code",
      "source": [
        "X_train.shape"
      ],
      "metadata": {
        "id": "XDLN1g8n3ITq",
        "colab": {
          "base_uri": "https://localhost:8080/"
        },
        "outputId": "04441cf6-3c92-4aab-fe4a-0ae770dd97e1"
      },
      "execution_count": null,
      "outputs": [
        {
          "output_type": "execute_result",
          "data": {
            "text/plain": [
              "(55000, 28, 28)"
            ]
          },
          "metadata": {},
          "execution_count": 18
        }
      ]
    },
    {
      "cell_type": "code",
      "source": [
        "model=tf.keras.Sequential([\n",
        "    tf.keras.layers.Input(shape=[28,28]),\n",
        "    tf.keras.layers.Flatten(),\n",
        "    tf.keras.layers.BatchNormalization(),\n",
        "    tf.keras.layers.Dense(300,activation='relu',kernel_initializer='he_normal'),\n",
        "    tf.keras.layers.BatchNormalization(),\n",
        "    tf.keras.layers.Dense(100,activation='relu',kernel_initializer='he_normal'),\n",
        "    tf.keras.layers.BatchNormalization(),\n",
        "    tf.keras.layers.Dense(10,activation='softmax',kernel_initializer='glorot_normal'),\n",
        "\n",
        "])"
      ],
      "metadata": {
        "id": "x3ZiyiNE3OII"
      },
      "execution_count": null,
      "outputs": []
    },
    {
      "cell_type": "code",
      "source": [
        "model.compile(loss='sparse_categorical_crossentropy',\n",
        "              optimizer=tf.keras.optimizers.Adam(learning_rate=1e-3),\n",
        "              metrics=['accuracy'])"
      ],
      "metadata": {
        "id": "iswlnU8m4OxF"
      },
      "execution_count": null,
      "outputs": []
    },
    {
      "cell_type": "code",
      "source": [
        "model.fit(X_train,y_train,epochs=5,validation_data=(X_valid,y_valid))"
      ],
      "metadata": {
        "colab": {
          "base_uri": "https://localhost:8080/"
        },
        "id": "mRQTtJUy3XPK",
        "outputId": "b7e390ec-d25f-45e4-938b-bc92b248dab2"
      },
      "execution_count": null,
      "outputs": [
        {
          "output_type": "stream",
          "name": "stdout",
          "text": [
            "Epoch 1/5\n",
            "\u001b[1m1719/1719\u001b[0m \u001b[32m━━━━━━━━━━━━━━━━━━━━\u001b[0m\u001b[37m\u001b[0m \u001b[1m12s\u001b[0m 5ms/step - accuracy: 0.7993 - loss: 0.5722 - val_accuracy: 0.8644 - val_loss: 0.3577\n",
            "Epoch 2/5\n",
            "\u001b[1m1719/1719\u001b[0m \u001b[32m━━━━━━━━━━━━━━━━━━━━\u001b[0m\u001b[37m\u001b[0m \u001b[1m5s\u001b[0m 3ms/step - accuracy: 0.8684 - loss: 0.3621 - val_accuracy: 0.8698 - val_loss: 0.3398\n",
            "Epoch 3/5\n",
            "\u001b[1m1719/1719\u001b[0m \u001b[32m━━━━━━━━━━━━━━━━━━━━\u001b[0m\u001b[37m\u001b[0m \u001b[1m12s\u001b[0m 4ms/step - accuracy: 0.8861 - loss: 0.3078 - val_accuracy: 0.8658 - val_loss: 0.3370\n",
            "Epoch 4/5\n",
            "\u001b[1m1719/1719\u001b[0m \u001b[32m━━━━━━━━━━━━━━━━━━━━\u001b[0m\u001b[37m\u001b[0m \u001b[1m6s\u001b[0m 4ms/step - accuracy: 0.9016 - loss: 0.2680 - val_accuracy: 0.8708 - val_loss: 0.3450\n",
            "Epoch 5/5\n",
            "\u001b[1m1719/1719\u001b[0m \u001b[32m━━━━━━━━━━━━━━━━━━━━\u001b[0m\u001b[37m\u001b[0m \u001b[1m9s\u001b[0m 3ms/step - accuracy: 0.9135 - loss: 0.2341 - val_accuracy: 0.8766 - val_loss: 0.3527\n"
          ]
        },
        {
          "output_type": "execute_result",
          "data": {
            "text/plain": [
              "<keras.src.callbacks.history.History at 0x79d98968ffd0>"
            ]
          },
          "metadata": {},
          "execution_count": 21
        }
      ]
    },
    {
      "cell_type": "code",
      "source": [
        "[(var.name,var.trainable) for var in model.layers[1].variables]"
      ],
      "metadata": {
        "id": "1n4sQa-v6F7g",
        "colab": {
          "base_uri": "https://localhost:8080/"
        },
        "outputId": "3ec9c998-0a8a-4502-8b35-5b8a050a1295"
      },
      "execution_count": null,
      "outputs": [
        {
          "output_type": "execute_result",
          "data": {
            "text/plain": [
              "[('gamma', True),\n",
              " ('beta', True),\n",
              " ('moving_mean', False),\n",
              " ('moving_variance', False)]"
            ]
          },
          "metadata": {},
          "execution_count": 22
        }
      ]
    },
    {
      "cell_type": "markdown",
      "source": [
        "batchnormalization zamani adapt etmeye ehtiyyca qalmir"
      ],
      "metadata": {
        "id": "n8JVO5PN7C31"
      }
    },
    {
      "cell_type": "code",
      "source": [
        "model=tf.keras.Sequential([\n",
        "    tf.keras.layers.Input(shape=[28,28]),\n",
        "    tf.keras.layers.Flatten(),\n",
        "    tf.keras.layers.Dense(300,kernel_initializer='he_normal'),\n",
        "    tf.keras.layers.BatchNormalization(),\n",
        "    tf.keras.layers.ReLU(),\n",
        "    tf.keras.layers.Dense(200,kernel_initializer='he_normal'),\n",
        "    tf.keras.layers.BatchNormalization(),\n",
        "    tf.keras.layers.ReLU(),\n",
        "    tf.keras.layers.Dense(10,kernel_initializer='glorot_normal'),\n",
        "    tf.keras.layers.Softmax(),\n",
        "\n",
        "])"
      ],
      "metadata": {
        "id": "K032VVEj6ThC"
      },
      "execution_count": null,
      "outputs": []
    },
    {
      "cell_type": "code",
      "source": [
        "model.compile(loss='sparse_categorical_crossentropy',\n",
        "              optimizer=tf.keras.optimizers.Adam(learning_rate=1e-3),\n",
        "              metrics=['accuracy'])"
      ],
      "metadata": {
        "id": "XEqKYGL8946i"
      },
      "execution_count": null,
      "outputs": []
    },
    {
      "cell_type": "code",
      "source": [
        "model.fit(X_train,y_train,epochs=5,validation_data=(X_valid,y_valid))"
      ],
      "metadata": {
        "id": "pzbqltBV-Pkz",
        "colab": {
          "base_uri": "https://localhost:8080/"
        },
        "outputId": "d0668850-4ff6-493d-a5db-f3a929e2dd6b"
      },
      "execution_count": null,
      "outputs": [
        {
          "output_type": "stream",
          "name": "stdout",
          "text": [
            "Epoch 1/5\n",
            "\u001b[1m1719/1719\u001b[0m \u001b[32m━━━━━━━━━━━━━━━━━━━━\u001b[0m\u001b[37m\u001b[0m \u001b[1m10s\u001b[0m 4ms/step - accuracy: 0.8033 - loss: 0.5509 - val_accuracy: 0.8540 - val_loss: 0.3830\n",
            "Epoch 2/5\n",
            "\u001b[1m1719/1719\u001b[0m \u001b[32m━━━━━━━━━━━━━━━━━━━━\u001b[0m\u001b[37m\u001b[0m \u001b[1m6s\u001b[0m 3ms/step - accuracy: 0.8739 - loss: 0.3504 - val_accuracy: 0.8618 - val_loss: 0.3574\n",
            "Epoch 3/5\n",
            "\u001b[1m1719/1719\u001b[0m \u001b[32m━━━━━━━━━━━━━━━━━━━━\u001b[0m\u001b[37m\u001b[0m \u001b[1m5s\u001b[0m 3ms/step - accuracy: 0.8908 - loss: 0.2979 - val_accuracy: 0.8654 - val_loss: 0.3570\n",
            "Epoch 4/5\n",
            "\u001b[1m1719/1719\u001b[0m \u001b[32m━━━━━━━━━━━━━━━━━━━━\u001b[0m\u001b[37m\u001b[0m \u001b[1m6s\u001b[0m 3ms/step - accuracy: 0.9058 - loss: 0.2570 - val_accuracy: 0.8574 - val_loss: 0.4015\n",
            "Epoch 5/5\n",
            "\u001b[1m1719/1719\u001b[0m \u001b[32m━━━━━━━━━━━━━━━━━━━━\u001b[0m\u001b[37m\u001b[0m \u001b[1m5s\u001b[0m 3ms/step - accuracy: 0.9171 - loss: 0.2264 - val_accuracy: 0.8682 - val_loss: 0.4048\n"
          ]
        },
        {
          "output_type": "execute_result",
          "data": {
            "text/plain": [
              "<keras.src.callbacks.history.History at 0x79d989678d50>"
            ]
          },
          "metadata": {},
          "execution_count": 25
        }
      ]
    },
    {
      "cell_type": "code",
      "source": [
        "model=tf.keras.Sequential([\n",
        "    tf.keras.layers.Input(shape=[28,28]),\n",
        "    tf.keras.layers.Flatten(),\n",
        "    tf.keras.layers.Dense(300,kernel_initializer='he_normal',use_bias=False),\n",
        "    tf.keras.layers.BatchNormalization(),\n",
        "    tf.keras.layers.Activation('relu'),\n",
        "    tf.keras.layers.Dense(200,kernel_initializer='he_normal',use_bias=False),\n",
        "    tf.keras.layers.BatchNormalization(),\n",
        "    tf.keras.layers.Activation('relu'),\n",
        "    tf.keras.layers.Dense(10,activation='softmax'),\n",
        "\n",
        "\n",
        "])"
      ],
      "metadata": {
        "id": "Sle-fHKA-dCA"
      },
      "execution_count": null,
      "outputs": []
    },
    {
      "cell_type": "code",
      "source": [
        "model.compile(loss='sparse_categorical_crossentropy',\n",
        "              optimizer=tf.keras.optimizers.Adam(learning_rate=1e-3),\n",
        "              metrics=['accuracy'])"
      ],
      "metadata": {
        "id": "MkJoN94a_IPt"
      },
      "execution_count": null,
      "outputs": []
    },
    {
      "cell_type": "code",
      "source": [
        "model.fit(X_train,y_train,epochs=2,validation_data=(X_valid,y_valid))"
      ],
      "metadata": {
        "id": "-OMSMTpl_LXs",
        "colab": {
          "base_uri": "https://localhost:8080/"
        },
        "outputId": "10d1cb58-0c11-432d-cab9-1b89034ae5f4"
      },
      "execution_count": null,
      "outputs": [
        {
          "output_type": "stream",
          "name": "stdout",
          "text": [
            "Epoch 1/2\n",
            "\u001b[1m1719/1719\u001b[0m \u001b[32m━━━━━━━━━━━━━━━━━━━━\u001b[0m\u001b[37m\u001b[0m \u001b[1m10s\u001b[0m 4ms/step - accuracy: 0.8043 - loss: 0.5526 - val_accuracy: 0.8566 - val_loss: 0.3744\n",
            "Epoch 2/2\n",
            "\u001b[1m1719/1719\u001b[0m \u001b[32m━━━━━━━━━━━━━━━━━━━━\u001b[0m\u001b[37m\u001b[0m \u001b[1m6s\u001b[0m 4ms/step - accuracy: 0.8723 - loss: 0.3515 - val_accuracy: 0.8652 - val_loss: 0.3522\n"
          ]
        },
        {
          "output_type": "execute_result",
          "data": {
            "text/plain": [
              "<keras.src.callbacks.history.History at 0x79d989c42f90>"
            ]
          },
          "metadata": {},
          "execution_count": 28
        }
      ]
    },
    {
      "cell_type": "code",
      "source": [
        "optimizer=tf.keras.optimizers.SGD(clipvalue=1.0)\n",
        "model.compile(loss='sparse_categorical_crossentrpy',\n",
        "              optimizer=optimizer,\n",
        "              metrics=['accuracy'])"
      ],
      "metadata": {
        "id": "7NLr6khy_mau"
      },
      "execution_count": null,
      "outputs": []
    },
    {
      "cell_type": "markdown",
      "source": [
        "clipvalue nisbeti qorumur 1den boyuk deyerleri kesir ve 1e beraber edir"
      ],
      "metadata": {
        "id": "SYQ_0SIzBBIj"
      }
    },
    {
      "cell_type": "code",
      "source": [
        "optimizer=tf.keras.optimizers.SGD(clipnorm=1.0)\n",
        "model.compile(loss='sparse_categorical_crossentrpy',\n",
        "              optimizer=optimizer,\n",
        "              metrics=['accuracy'])"
      ],
      "metadata": {
        "id": "aOfZKlD8_n3L"
      },
      "execution_count": null,
      "outputs": []
    },
    {
      "cell_type": "markdown",
      "source": [
        "clipnorm nisbeti qoruyur"
      ],
      "metadata": {
        "id": "6TZ82r68BKzk"
      }
    },
    {
      "cell_type": "code",
      "source": [
        "pos_class_id=class_names.index('pullover')\n",
        "neg_class_id=class_names.index('t-shirt')\n",
        "\n",
        "def split_dataset(X,y):\n",
        "  y_for_B=(y==pos_class_id)| (y==neg_class_id)\n",
        "  y_A=y[~y_for_B]\n",
        "  y_B=(y[y_for_B]==pos_class_id).astype(np.float32)\n",
        "  old_class_ids=list(set(range(10))-set([neg_class_id,pos_class_id]))\n",
        "  for old_class_id, new_class_id in zip(old_class_ids,range(8)):\n",
        "    y_A[y_A==old_class_id]=new_class_id\n",
        "    return ((X[~y_for_B],y_A), (X[y_for_B], y_B))\n",
        "\n",
        "(X_train_A,y_train_A), (X_train_B, y_train_B)=split_dataset(X_train,y_train)\n",
        "(X_valid_A,y_valid_A), (X_valid_B, y_valid_B)=split_dataset(X_valid,y_valid)\n",
        "(X_test_A,y_test_A), (X_test_B, y_test_B)=split_dataset(X_test,y_test)\n",
        "X_train_B=X_train_B[:200]\n",
        "y_train_B=y_train_B[:200]"
      ],
      "metadata": {
        "id": "eY94B_aCA8UO"
      },
      "execution_count": null,
      "outputs": []
    },
    {
      "cell_type": "code",
      "source": [
        "model_A=tf.keras.Sequential([\n",
        "    tf.keras.layers.Input(shape=[28,28]),\n",
        "    tf.keras.layers.Flatten(),\n",
        "    tf.keras.layers.Dense(300, activation='relu', kernel_initializer='he_normal'),\n",
        "    tf.keras.layers.Dense(100, activation='relu', kernel_initializer='he_normal'),\n",
        "    tf.keras.layers.Dense(8, activation='softmax', kernel_initializer='glorot_normal'),\n",
        "\n",
        "])\n",
        "\n",
        "model_A.compile(loss='sparse_categorical_crossentropy',\n",
        "                optimizer=tf.keras.optimizers.SGD(learning_rate=0.001),\n",
        "                metrics=['accuracy'])\n",
        "\n",
        "model_A.fit(X_train_A,y_train_A,epochs=20,validation_data=(X_valid_A,y_valid_A))\n",
        "\n"
      ],
      "metadata": {
        "id": "yTJbPCSJNoQ-",
        "colab": {
          "base_uri": "https://localhost:8080/"
        },
        "outputId": "7ab593a1-4a4e-465a-87af-625237ae5723"
      },
      "execution_count": null,
      "outputs": [
        {
          "output_type": "stream",
          "name": "stdout",
          "text": [
            "Epoch 1/20\n",
            "\u001b[1m1376/1376\u001b[0m \u001b[32m━━━━━━━━━━━━━━━━━━━━\u001b[0m\u001b[37m\u001b[0m \u001b[1m6s\u001b[0m 4ms/step - accuracy: 0.1276 - loss: nan - val_accuracy: 0.1128 - val_loss: nan\n",
            "Epoch 2/20\n",
            "\u001b[1m1376/1376\u001b[0m \u001b[32m━━━━━━━━━━━━━━━━━━━━\u001b[0m\u001b[37m\u001b[0m \u001b[1m8s\u001b[0m 3ms/step - accuracy: 0.1280 - loss: nan - val_accuracy: 0.1128 - val_loss: nan\n",
            "Epoch 3/20\n",
            "\u001b[1m1376/1376\u001b[0m \u001b[32m━━━━━━━━━━━━━━━━━━━━\u001b[0m\u001b[37m\u001b[0m \u001b[1m5s\u001b[0m 4ms/step - accuracy: 0.1280 - loss: nan - val_accuracy: 0.1128 - val_loss: nan\n",
            "Epoch 4/20\n",
            "\u001b[1m1376/1376\u001b[0m \u001b[32m━━━━━━━━━━━━━━━━━━━━\u001b[0m\u001b[37m\u001b[0m \u001b[1m10s\u001b[0m 3ms/step - accuracy: 0.1280 - loss: nan - val_accuracy: 0.1128 - val_loss: nan\n",
            "Epoch 5/20\n",
            "\u001b[1m1376/1376\u001b[0m \u001b[32m━━━━━━━━━━━━━━━━━━━━\u001b[0m\u001b[37m\u001b[0m \u001b[1m5s\u001b[0m 3ms/step - accuracy: 0.1280 - loss: nan - val_accuracy: 0.1128 - val_loss: nan\n",
            "Epoch 6/20\n",
            "\u001b[1m1376/1376\u001b[0m \u001b[32m━━━━━━━━━━━━━━━━━━━━\u001b[0m\u001b[37m\u001b[0m \u001b[1m4s\u001b[0m 3ms/step - accuracy: 0.1280 - loss: nan - val_accuracy: 0.1128 - val_loss: nan\n",
            "Epoch 7/20\n",
            "\u001b[1m1376/1376\u001b[0m \u001b[32m━━━━━━━━━━━━━━━━━━━━\u001b[0m\u001b[37m\u001b[0m \u001b[1m5s\u001b[0m 3ms/step - accuracy: 0.1280 - loss: nan - val_accuracy: 0.1128 - val_loss: nan\n",
            "Epoch 8/20\n",
            "\u001b[1m1376/1376\u001b[0m \u001b[32m━━━━━━━━━━━━━━━━━━━━\u001b[0m\u001b[37m\u001b[0m \u001b[1m5s\u001b[0m 3ms/step - accuracy: 0.1280 - loss: nan - val_accuracy: 0.1128 - val_loss: nan\n",
            "Epoch 9/20\n",
            "\u001b[1m1376/1376\u001b[0m \u001b[32m━━━━━━━━━━━━━━━━━━━━\u001b[0m\u001b[37m\u001b[0m \u001b[1m4s\u001b[0m 2ms/step - accuracy: 0.1280 - loss: nan - val_accuracy: 0.1128 - val_loss: nan\n",
            "Epoch 10/20\n",
            "\u001b[1m1376/1376\u001b[0m \u001b[32m━━━━━━━━━━━━━━━━━━━━\u001b[0m\u001b[37m\u001b[0m \u001b[1m6s\u001b[0m 3ms/step - accuracy: 0.1280 - loss: nan - val_accuracy: 0.1128 - val_loss: nan\n",
            "Epoch 11/20\n",
            "\u001b[1m1376/1376\u001b[0m \u001b[32m━━━━━━━━━━━━━━━━━━━━\u001b[0m\u001b[37m\u001b[0m \u001b[1m4s\u001b[0m 3ms/step - accuracy: 0.1280 - loss: nan - val_accuracy: 0.1128 - val_loss: nan\n",
            "Epoch 12/20\n",
            "\u001b[1m1376/1376\u001b[0m \u001b[32m━━━━━━━━━━━━━━━━━━━━\u001b[0m\u001b[37m\u001b[0m \u001b[1m6s\u001b[0m 3ms/step - accuracy: 0.1280 - loss: nan - val_accuracy: 0.1128 - val_loss: nan\n",
            "Epoch 13/20\n",
            "\u001b[1m1376/1376\u001b[0m \u001b[32m━━━━━━━━━━━━━━━━━━━━\u001b[0m\u001b[37m\u001b[0m \u001b[1m3s\u001b[0m 2ms/step - accuracy: 0.1280 - loss: nan - val_accuracy: 0.1128 - val_loss: nan\n",
            "Epoch 14/20\n",
            "\u001b[1m1376/1376\u001b[0m \u001b[32m━━━━━━━━━━━━━━━━━━━━\u001b[0m\u001b[37m\u001b[0m \u001b[1m3s\u001b[0m 2ms/step - accuracy: 0.1280 - loss: nan - val_accuracy: 0.1128 - val_loss: nan\n",
            "Epoch 15/20\n",
            "\u001b[1m1376/1376\u001b[0m \u001b[32m━━━━━━━━━━━━━━━━━━━━\u001b[0m\u001b[37m\u001b[0m \u001b[1m3s\u001b[0m 2ms/step - accuracy: 0.1280 - loss: nan - val_accuracy: 0.1128 - val_loss: nan\n",
            "Epoch 16/20\n",
            "\u001b[1m1376/1376\u001b[0m \u001b[32m━━━━━━━━━━━━━━━━━━━━\u001b[0m\u001b[37m\u001b[0m \u001b[1m5s\u001b[0m 2ms/step - accuracy: 0.1280 - loss: nan - val_accuracy: 0.1128 - val_loss: nan\n",
            "Epoch 17/20\n",
            "\u001b[1m1376/1376\u001b[0m \u001b[32m━━━━━━━━━━━━━━━━━━━━\u001b[0m\u001b[37m\u001b[0m \u001b[1m5s\u001b[0m 2ms/step - accuracy: 0.1280 - loss: nan - val_accuracy: 0.1128 - val_loss: nan\n",
            "Epoch 18/20\n",
            "\u001b[1m1376/1376\u001b[0m \u001b[32m━━━━━━━━━━━━━━━━━━━━\u001b[0m\u001b[37m\u001b[0m \u001b[1m6s\u001b[0m 3ms/step - accuracy: 0.1280 - loss: nan - val_accuracy: 0.1128 - val_loss: nan\n",
            "Epoch 19/20\n",
            "\u001b[1m1376/1376\u001b[0m \u001b[32m━━━━━━━━━━━━━━━━━━━━\u001b[0m\u001b[37m\u001b[0m \u001b[1m5s\u001b[0m 2ms/step - accuracy: 0.1280 - loss: nan - val_accuracy: 0.1128 - val_loss: nan\n",
            "Epoch 20/20\n",
            "\u001b[1m1376/1376\u001b[0m \u001b[32m━━━━━━━━━━━━━━━━━━━━\u001b[0m\u001b[37m\u001b[0m \u001b[1m3s\u001b[0m 2ms/step - accuracy: 0.1280 - loss: nan - val_accuracy: 0.1128 - val_loss: nan\n"
          ]
        },
        {
          "output_type": "execute_result",
          "data": {
            "text/plain": [
              "<keras.src.callbacks.history.History at 0x79d98863af90>"
            ]
          },
          "metadata": {},
          "execution_count": 32
        }
      ]
    },
    {
      "cell_type": "code",
      "source": [
        "model_A.save('my_model_A.keras')"
      ],
      "metadata": {
        "id": "ceT3Ad2WNn7o"
      },
      "execution_count": null,
      "outputs": []
    },
    {
      "cell_type": "code",
      "source": [
        "model_B=tf.keras.Sequential([\n",
        "    tf.keras.layers.Input(shape=[28,28]),\n",
        "    tf.keras.layers.Flatten(),\n",
        "    tf.keras.layers.Dense(300, activation='relu', kernel_initializer='he_normal'),\n",
        "    tf.keras.layers.Dense(100, activation='relu', kernel_initializer='he_normal'),\n",
        "    tf.keras.layers.Dense(1,  activation='sigmoid', kernel_initializer='glorot_normal'),\n",
        "])\n",
        "\n",
        "model_B.compile(loss='binary_crossentropy',\n",
        "                optimizer=tf.keras.optimizers.SGD(learning_rate=0.001),\n",
        "                metrics=['accuracy'])\n",
        "\n",
        "model_B.fit(X_train_B, y_train_B, epochs=20, validation_data=(X_valid_B, y_valid_B))\n",
        "\n",
        "model_B.save('my_model_B.keras')"
      ],
      "metadata": {
        "id": "5WUeM8u8Q8to",
        "colab": {
          "base_uri": "https://localhost:8080/"
        },
        "outputId": "adb6021e-d4b0-4da7-d9f9-ef5a78b3249c"
      },
      "execution_count": null,
      "outputs": [
        {
          "output_type": "stream",
          "name": "stdout",
          "text": [
            "Epoch 1/20\n",
            "\u001b[1m7/7\u001b[0m \u001b[32m━━━━━━━━━━━━━━━━━━━━\u001b[0m\u001b[37m\u001b[0m \u001b[1m3s\u001b[0m 248ms/step - accuracy: 0.5174 - loss: 0.7114 - val_accuracy: 0.5124 - val_loss: 0.6938\n",
            "Epoch 2/20\n",
            "\u001b[1m7/7\u001b[0m \u001b[32m━━━━━━━━━━━━━━━━━━━━\u001b[0m\u001b[37m\u001b[0m \u001b[1m0s\u001b[0m 21ms/step - accuracy: 0.5102 - loss: 0.6843 - val_accuracy: 0.5687 - val_loss: 0.6693\n",
            "Epoch 3/20\n",
            "\u001b[1m7/7\u001b[0m \u001b[32m━━━━━━━━━━━━━━━━━━━━\u001b[0m\u001b[37m\u001b[0m \u001b[1m0s\u001b[0m 21ms/step - accuracy: 0.5706 - loss: 0.6608 - val_accuracy: 0.6499 - val_loss: 0.6480\n",
            "Epoch 4/20\n",
            "\u001b[1m7/7\u001b[0m \u001b[32m━━━━━━━━━━━━━━━━━━━━\u001b[0m\u001b[37m\u001b[0m \u001b[1m0s\u001b[0m 32ms/step - accuracy: 0.6832 - loss: 0.6399 - val_accuracy: 0.7418 - val_loss: 0.6288\n",
            "Epoch 5/20\n",
            "\u001b[1m7/7\u001b[0m \u001b[32m━━━━━━━━━━━━━━━━━━━━\u001b[0m\u001b[37m\u001b[0m \u001b[1m0s\u001b[0m 21ms/step - accuracy: 0.7701 - loss: 0.6207 - val_accuracy: 0.7943 - val_loss: 0.6113\n",
            "Epoch 6/20\n",
            "\u001b[1m7/7\u001b[0m \u001b[32m━━━━━━━━━━━━━━━━━━━━\u001b[0m\u001b[37m\u001b[0m \u001b[1m0s\u001b[0m 20ms/step - accuracy: 0.8297 - loss: 0.6028 - val_accuracy: 0.8398 - val_loss: 0.5950\n",
            "Epoch 7/20\n",
            "\u001b[1m7/7\u001b[0m \u001b[32m━━━━━━━━━━━━━━━━━━━━\u001b[0m\u001b[37m\u001b[0m \u001b[1m0s\u001b[0m 31ms/step - accuracy: 0.8489 - loss: 0.5861 - val_accuracy: 0.8734 - val_loss: 0.5797\n",
            "Epoch 8/20\n",
            "\u001b[1m7/7\u001b[0m \u001b[32m━━━━━━━━━━━━━━━━━━━━\u001b[0m\u001b[37m\u001b[0m \u001b[1m0s\u001b[0m 21ms/step - accuracy: 0.8869 - loss: 0.5703 - val_accuracy: 0.8872 - val_loss: 0.5652\n",
            "Epoch 9/20\n",
            "\u001b[1m7/7\u001b[0m \u001b[32m━━━━━━━━━━━━━━━━━━━━\u001b[0m\u001b[37m\u001b[0m \u001b[1m0s\u001b[0m 22ms/step - accuracy: 0.9032 - loss: 0.5551 - val_accuracy: 0.8991 - val_loss: 0.5510\n",
            "Epoch 10/20\n",
            "\u001b[1m7/7\u001b[0m \u001b[32m━━━━━━━━━━━━━━━━━━━━\u001b[0m\u001b[37m\u001b[0m \u001b[1m0s\u001b[0m 20ms/step - accuracy: 0.9013 - loss: 0.5401 - val_accuracy: 0.9070 - val_loss: 0.5373\n",
            "Epoch 11/20\n",
            "\u001b[1m7/7\u001b[0m \u001b[32m━━━━━━━━━━━━━━━━━━━━\u001b[0m\u001b[37m\u001b[0m \u001b[1m0s\u001b[0m 20ms/step - accuracy: 0.9063 - loss: 0.5255 - val_accuracy: 0.9100 - val_loss: 0.5237\n",
            "Epoch 12/20\n",
            "\u001b[1m7/7\u001b[0m \u001b[32m━━━━━━━━━━━━━━━━━━━━\u001b[0m\u001b[37m\u001b[0m \u001b[1m0s\u001b[0m 19ms/step - accuracy: 0.9139 - loss: 0.5110 - val_accuracy: 0.9120 - val_loss: 0.5105\n",
            "Epoch 13/20\n",
            "\u001b[1m7/7\u001b[0m \u001b[32m━━━━━━━━━━━━━━━━━━━━\u001b[0m\u001b[37m\u001b[0m \u001b[1m0s\u001b[0m 31ms/step - accuracy: 0.9500 - loss: 0.4969 - val_accuracy: 0.9189 - val_loss: 0.4976\n",
            "Epoch 14/20\n",
            "\u001b[1m7/7\u001b[0m \u001b[32m━━━━━━━━━━━━━━━━━━━━\u001b[0m\u001b[37m\u001b[0m \u001b[1m0s\u001b[0m 20ms/step - accuracy: 0.9500 - loss: 0.4831 - val_accuracy: 0.9248 - val_loss: 0.4850\n",
            "Epoch 15/20\n",
            "\u001b[1m7/7\u001b[0m \u001b[32m━━━━━━━━━━━━━━━━━━━━\u001b[0m\u001b[37m\u001b[0m \u001b[1m0s\u001b[0m 20ms/step - accuracy: 0.9500 - loss: 0.4699 - val_accuracy: 0.9258 - val_loss: 0.4731\n",
            "Epoch 16/20\n",
            "\u001b[1m7/7\u001b[0m \u001b[32m━━━━━━━━━━━━━━━━━━━━\u001b[0m\u001b[37m\u001b[0m \u001b[1m0s\u001b[0m 20ms/step - accuracy: 0.9500 - loss: 0.4573 - val_accuracy: 0.9268 - val_loss: 0.4616\n",
            "Epoch 17/20\n",
            "\u001b[1m7/7\u001b[0m \u001b[32m━━━━━━━━━━━━━━━━━━━━\u001b[0m\u001b[37m\u001b[0m \u001b[1m0s\u001b[0m 20ms/step - accuracy: 0.9573 - loss: 0.4453 - val_accuracy: 0.9278 - val_loss: 0.4508\n",
            "Epoch 18/20\n",
            "\u001b[1m7/7\u001b[0m \u001b[32m━━━━━━━━━━━━━━━━━━━━\u001b[0m\u001b[37m\u001b[0m \u001b[1m0s\u001b[0m 20ms/step - accuracy: 0.9592 - loss: 0.4341 - val_accuracy: 0.9298 - val_loss: 0.4407\n",
            "Epoch 19/20\n",
            "\u001b[1m7/7\u001b[0m \u001b[32m━━━━━━━━━━━━━━━━━━━━\u001b[0m\u001b[37m\u001b[0m \u001b[1m0s\u001b[0m 20ms/step - accuracy: 0.9592 - loss: 0.4236 - val_accuracy: 0.9327 - val_loss: 0.4310\n",
            "Epoch 20/20\n",
            "\u001b[1m7/7\u001b[0m \u001b[32m━━━━━━━━━━━━━━━━━━━━\u001b[0m\u001b[37m\u001b[0m \u001b[1m0s\u001b[0m 21ms/step - accuracy: 0.9592 - loss: 0.4136 - val_accuracy: 0.9347 - val_loss: 0.4219\n"
          ]
        }
      ]
    },
    {
      "cell_type": "code",
      "source": [
        "model_B.evaluate(X_test_B, y_test_B)"
      ],
      "metadata": {
        "id": "Og7NFQ3hTJJj",
        "colab": {
          "base_uri": "https://localhost:8080/"
        },
        "outputId": "f9292691-6263-4a5d-f239-a331ad62e8dc"
      },
      "execution_count": null,
      "outputs": [
        {
          "output_type": "stream",
          "name": "stdout",
          "text": [
            "\u001b[1m63/63\u001b[0m \u001b[32m━━━━━━━━━━━━━━━━━━━━\u001b[0m\u001b[37m\u001b[0m \u001b[1m0s\u001b[0m 6ms/step - accuracy: 0.9199 - loss: 0.4299\n"
          ]
        },
        {
          "output_type": "execute_result",
          "data": {
            "text/plain": [
              "[0.42907699942588806, 0.9225000143051147]"
            ]
          },
          "metadata": {},
          "execution_count": 35
        }
      ]
    },
    {
      "cell_type": "code",
      "source": [
        "model_A=tf.keras.models.load_model('my_model_A.keras')\n",
        "model_B_on_A=tf.keras.Sequential(model_A.layers[:-1])\n",
        "model_B_on_A.add(tf.keras.layers.Dense(1,activation='sigmoid'))"
      ],
      "metadata": {
        "id": "BjDRttxkTX8b"
      },
      "execution_count": null,
      "outputs": []
    },
    {
      "cell_type": "code",
      "source": [
        "model_A_clone=tf.keras.models.clone_model(model_A)\n",
        "model_A_clone.set_weights(model_A.get_weights())"
      ],
      "metadata": {
        "id": "K5iNGP-sTyc0"
      },
      "execution_count": null,
      "outputs": []
    },
    {
      "cell_type": "code",
      "source": [
        "model_B_on_A=tf.keras.Sequential(model_A_clone.layers[:-1])\n",
        "model_B_on_A.add(tf.keras.layers.Dense(1,activation='sigmoid'))"
      ],
      "metadata": {
        "id": "iRw4eVwpUqqk"
      },
      "execution_count": null,
      "outputs": []
    },
    {
      "cell_type": "code",
      "source": [
        "for layer in model_B_on_A.layers[:-1]:\n",
        "  layer.trainable=False\n",
        "optimizer=tf.keras.optimizers.SGD(learning_rate=0.001)\n",
        "model_B_on_A.compile(loss='binary_crossentropy',\n",
        "                     optimizer=optimizer,\n",
        "                     metrics=['accuracy'])"
      ],
      "metadata": {
        "id": "C8isegJVUqnJ"
      },
      "execution_count": null,
      "outputs": []
    },
    {
      "cell_type": "code",
      "source": [
        "history=model_B_on_A.fit(X_train_B,y_train_B, epochs=4,validation_data=(X_valid_B, y_valid_B))"
      ],
      "metadata": {
        "id": "VJszmr5JXJCo",
        "colab": {
          "base_uri": "https://localhost:8080/"
        },
        "outputId": "ad007087-8bdf-49ee-e880-ee25a9e45cab"
      },
      "execution_count": null,
      "outputs": [
        {
          "output_type": "stream",
          "name": "stdout",
          "text": [
            "Epoch 1/4\n",
            "\u001b[1m7/7\u001b[0m \u001b[32m━━━━━━━━━━━━━━━━━━━━\u001b[0m\u001b[37m\u001b[0m \u001b[1m2s\u001b[0m 177ms/step - accuracy: 0.5699 - loss: nan - val_accuracy: 0.5153 - val_loss: nan\n",
            "Epoch 2/4\n",
            "\u001b[1m7/7\u001b[0m \u001b[32m━━━━━━━━━━━━━━━━━━━━\u001b[0m\u001b[37m\u001b[0m \u001b[1m0s\u001b[0m 22ms/step - accuracy: 0.5699 - loss: nan - val_accuracy: 0.5153 - val_loss: nan\n",
            "Epoch 3/4\n",
            "\u001b[1m7/7\u001b[0m \u001b[32m━━━━━━━━━━━━━━━━━━━━\u001b[0m\u001b[37m\u001b[0m \u001b[1m0s\u001b[0m 31ms/step - accuracy: 0.5699 - loss: nan - val_accuracy: 0.5153 - val_loss: nan\n",
            "Epoch 4/4\n",
            "\u001b[1m7/7\u001b[0m \u001b[32m━━━━━━━━━━━━━━━━━━━━\u001b[0m\u001b[37m\u001b[0m \u001b[1m0s\u001b[0m 20ms/step - accuracy: 0.5699 - loss: nan - val_accuracy: 0.5153 - val_loss: nan\n"
          ]
        }
      ]
    },
    {
      "cell_type": "code",
      "source": [
        "history.history"
      ],
      "metadata": {
        "id": "87JrKj0bXXrX",
        "colab": {
          "base_uri": "https://localhost:8080/"
        },
        "outputId": "ceee39a5-d9ba-4c3f-afa4-9803b0f09b99"
      },
      "execution_count": null,
      "outputs": [
        {
          "output_type": "execute_result",
          "data": {
            "text/plain": [
              "{'accuracy': [0.5550000071525574,\n",
              "  0.5550000071525574,\n",
              "  0.5550000071525574,\n",
              "  0.5550000071525574],\n",
              " 'loss': [nan, nan, nan, nan],\n",
              " 'val_accuracy': [0.5153313279151917,\n",
              "  0.5153313279151917,\n",
              "  0.5153313279151917,\n",
              "  0.5153313279151917],\n",
              " 'val_loss': [nan, nan, nan, nan]}"
            ]
          },
          "metadata": {},
          "execution_count": 41
        }
      ]
    },
    {
      "cell_type": "code",
      "source": [
        "for layer in model_B_on_A.layers[:-1]:\n",
        "   layer.trainable=True\n",
        "\n",
        "optimizer=tf.keras.optimizers.SGD(learning_rate=0.001)\n",
        "model_B_on_A.compile(loss='binary_crossentropy',\n",
        "                     optimizer=optimizer,\n",
        "                     metrics=['accuracy'])\n",
        "\n",
        "model_B_on_A.fit(X_train_B, y_train_B, epochs=16,validation_data=(X_valid_B,y_valid_B))\n"
      ],
      "metadata": {
        "id": "yFEsLxAQXbm3",
        "colab": {
          "base_uri": "https://localhost:8080/"
        },
        "outputId": "72117fac-8660-49db-af68-1170b3229f0b"
      },
      "execution_count": null,
      "outputs": [
        {
          "output_type": "stream",
          "name": "stdout",
          "text": [
            "Epoch 1/16\n",
            "\u001b[1m7/7\u001b[0m \u001b[32m━━━━━━━━━━━━━━━━━━━━\u001b[0m\u001b[37m\u001b[0m \u001b[1m2s\u001b[0m 177ms/step - accuracy: 0.5699 - loss: nan - val_accuracy: 0.5153 - val_loss: nan\n",
            "Epoch 2/16\n",
            "\u001b[1m7/7\u001b[0m \u001b[32m━━━━━━━━━━━━━━━━━━━━\u001b[0m\u001b[37m\u001b[0m \u001b[1m0s\u001b[0m 31ms/step - accuracy: 0.5699 - loss: nan - val_accuracy: 0.5153 - val_loss: nan\n",
            "Epoch 3/16\n",
            "\u001b[1m7/7\u001b[0m \u001b[32m━━━━━━━━━━━━━━━━━━━━\u001b[0m\u001b[37m\u001b[0m \u001b[1m0s\u001b[0m 21ms/step - accuracy: 0.5699 - loss: nan - val_accuracy: 0.5153 - val_loss: nan\n",
            "Epoch 4/16\n",
            "\u001b[1m7/7\u001b[0m \u001b[32m━━━━━━━━━━━━━━━━━━━━\u001b[0m\u001b[37m\u001b[0m \u001b[1m0s\u001b[0m 20ms/step - accuracy: 0.5699 - loss: nan - val_accuracy: 0.5153 - val_loss: nan\n",
            "Epoch 5/16\n",
            "\u001b[1m7/7\u001b[0m \u001b[32m━━━━━━━━━━━━━━━━━━━━\u001b[0m\u001b[37m\u001b[0m \u001b[1m0s\u001b[0m 33ms/step - accuracy: 0.5699 - loss: nan - val_accuracy: 0.5153 - val_loss: nan\n",
            "Epoch 6/16\n",
            "\u001b[1m7/7\u001b[0m \u001b[32m━━━━━━━━━━━━━━━━━━━━\u001b[0m\u001b[37m\u001b[0m \u001b[1m0s\u001b[0m 35ms/step - accuracy: 0.5699 - loss: nan - val_accuracy: 0.5153 - val_loss: nan\n",
            "Epoch 7/16\n",
            "\u001b[1m7/7\u001b[0m \u001b[32m━━━━━━━━━━━━━━━━━━━━\u001b[0m\u001b[37m\u001b[0m \u001b[1m0s\u001b[0m 34ms/step - accuracy: 0.5699 - loss: nan - val_accuracy: 0.5153 - val_loss: nan\n",
            "Epoch 8/16\n",
            "\u001b[1m7/7\u001b[0m \u001b[32m━━━━━━━━━━━━━━━━━━━━\u001b[0m\u001b[37m\u001b[0m \u001b[1m0s\u001b[0m 29ms/step - accuracy: 0.5699 - loss: nan - val_accuracy: 0.5153 - val_loss: nan\n",
            "Epoch 9/16\n",
            "\u001b[1m7/7\u001b[0m \u001b[32m━━━━━━━━━━━━━━━━━━━━\u001b[0m\u001b[37m\u001b[0m \u001b[1m0s\u001b[0m 30ms/step - accuracy: 0.5699 - loss: nan - val_accuracy: 0.5153 - val_loss: nan\n",
            "Epoch 10/16\n",
            "\u001b[1m7/7\u001b[0m \u001b[32m━━━━━━━━━━━━━━━━━━━━\u001b[0m\u001b[37m\u001b[0m \u001b[1m0s\u001b[0m 29ms/step - accuracy: 0.5699 - loss: nan - val_accuracy: 0.5153 - val_loss: nan\n",
            "Epoch 11/16\n",
            "\u001b[1m7/7\u001b[0m \u001b[32m━━━━━━━━━━━━━━━━━━━━\u001b[0m\u001b[37m\u001b[0m \u001b[1m0s\u001b[0m 35ms/step - accuracy: 0.5699 - loss: nan - val_accuracy: 0.5153 - val_loss: nan\n",
            "Epoch 12/16\n",
            "\u001b[1m7/7\u001b[0m \u001b[32m━━━━━━━━━━━━━━━━━━━━\u001b[0m\u001b[37m\u001b[0m \u001b[1m0s\u001b[0m 35ms/step - accuracy: 0.5699 - loss: nan - val_accuracy: 0.5153 - val_loss: nan\n",
            "Epoch 13/16\n",
            "\u001b[1m7/7\u001b[0m \u001b[32m━━━━━━━━━━━━━━━━━━━━\u001b[0m\u001b[37m\u001b[0m \u001b[1m0s\u001b[0m 20ms/step - accuracy: 0.5699 - loss: nan - val_accuracy: 0.5153 - val_loss: nan\n",
            "Epoch 14/16\n",
            "\u001b[1m7/7\u001b[0m \u001b[32m━━━━━━━━━━━━━━━━━━━━\u001b[0m\u001b[37m\u001b[0m \u001b[1m0s\u001b[0m 21ms/step - accuracy: 0.5699 - loss: nan - val_accuracy: 0.5153 - val_loss: nan\n",
            "Epoch 15/16\n",
            "\u001b[1m7/7\u001b[0m \u001b[32m━━━━━━━━━━━━━━━━━━━━\u001b[0m\u001b[37m\u001b[0m \u001b[1m0s\u001b[0m 21ms/step - accuracy: 0.5699 - loss: nan - val_accuracy: 0.5153 - val_loss: nan\n",
            "Epoch 16/16\n",
            "\u001b[1m7/7\u001b[0m \u001b[32m━━━━━━━━━━━━━━━━━━━━\u001b[0m\u001b[37m\u001b[0m \u001b[1m0s\u001b[0m 31ms/step - accuracy: 0.5699 - loss: nan - val_accuracy: 0.5153 - val_loss: nan\n"
          ]
        },
        {
          "output_type": "execute_result",
          "data": {
            "text/plain": [
              "<keras.src.callbacks.history.History at 0x79d9884d9450>"
            ]
          },
          "metadata": {},
          "execution_count": 42
        }
      ]
    },
    {
      "cell_type": "markdown",
      "source": [
        "momentum suretli  sekinde minimum noqteye gedir weigthi g average istifade olunur gradient sgd 0 olsa bile momentum da ortalama nezere alindigina gore davam edecek minimum noqteye dogru momentum global noqtede ilk novbede tapmir kecir gedir sonra qayidir\n",
        "nesterov=True NAG - improved momentum"
      ],
      "metadata": {
        "id": "6F9Nlw_c5F-s"
      }
    },
    {
      "cell_type": "markdown",
      "source": [
        "rmsprop her bir toreme ferqli learning rate e vurulur"
      ],
      "metadata": {
        "id": "xZOomfIw7yID"
      }
    },
    {
      "cell_type": "markdown",
      "source": [
        "learning rate decay-"
      ],
      "metadata": {
        "id": "SrAtn9JE9AC5"
      }
    },
    {
      "cell_type": "code",
      "source": [
        "def build_model(seed=42):\n",
        "  tf.random.set_seed(seed)\n",
        "  return tf.keras.Sequential([\n",
        "      tf.keras.layers.Input(shape=[28,28]),\n",
        "      tf.keras.layers.Flatten(),\n",
        "      tf.keras.layers.BatchNormalization(),\n",
        "      tf.keras.layers.Dense(100, activation='relu', kernel_initializer='he_normal'),\n",
        "      tf.keras.layers.BatchNormalization(),\n",
        "      tf.keras.layers.Dense(100, activation='relu', kernel_initializer='he_normal'),\n",
        "      tf.keras.layers.BatchNormalization(),\n",
        "      tf.keras.layers.Dense(100, activation='relu', kernel_initializer='he_normal'),\n",
        "      tf.keras.layers.BatchNormalization(),\n",
        "      tf.keras.layers.Dense(10, activation='softmax')\n",
        "  ])\n",
        "\n",
        "def build_and_train_model(optimizer):\n",
        "  model=build_model()\n",
        "  model.compile(loss='sparse_categorical_crossentropy',\n",
        "                optimizer=optimizer,\n",
        "                metrics=['accuracy'])\n",
        "  return model.fit(X_train,y_train,epochs=10,validation_data=(X_valid,y_valid))\n"
      ],
      "metadata": {
        "id": "Yoz09I7e8_gh"
      },
      "execution_count": null,
      "outputs": []
    },
    {
      "cell_type": "markdown",
      "source": [
        "#Momentum Optimizers"
      ],
      "metadata": {
        "id": "jqnKCmC2CHrv"
      }
    },
    {
      "cell_type": "code",
      "source": [
        "optimizer=tf.keras.optimizers.SGD(learning_rate=0.001, momentum=0.9)"
      ],
      "metadata": {
        "id": "5wbwvQv9ZUKx"
      },
      "execution_count": null,
      "outputs": []
    },
    {
      "cell_type": "markdown",
      "source": [
        "#NAG Nesterov Accelerated Gradient"
      ],
      "metadata": {
        "id": "iiQpkusaCkc7"
      }
    },
    {
      "cell_type": "code",
      "source": [
        "optimizer=tf.keras.optimizers.SGD(learning_rate=0.001, momentum=0.9, nesterov=True)"
      ],
      "metadata": {
        "id": "1hV3DV6dCb9L"
      },
      "execution_count": null,
      "outputs": []
    },
    {
      "cell_type": "markdown",
      "source": [
        "# ADA gradient"
      ],
      "metadata": {
        "id": "VKG2P1lNCqyI"
      }
    },
    {
      "cell_type": "markdown",
      "source": [
        "learning rate decay yasadigina gore cox istifade olunmur"
      ],
      "metadata": {
        "id": "oco6iYCzDSK3"
      }
    },
    {
      "cell_type": "code",
      "source": [
        "optimizer=tf.keras.optimizers.Adagrad(learning_rate=0.001)"
      ],
      "metadata": {
        "id": "kFokdScVC9D_"
      },
      "execution_count": null,
      "outputs": []
    },
    {
      "cell_type": "code",
      "source": [
        "history_adagrand=build_and_train_model(optimizer)"
      ],
      "metadata": {
        "id": "sjUKMAT6DDI0"
      },
      "execution_count": null,
      "outputs": []
    },
    {
      "cell_type": "markdown",
      "source": [
        "#RMSprop"
      ],
      "metadata": {
        "id": "fW1ElYnDDYpZ"
      }
    },
    {
      "cell_type": "code",
      "source": [
        "optimizer=tf.keras.optimizers.RMSprop(learning_rate=0.001)"
      ],
      "metadata": {
        "id": "e3V_SzWKDcEI"
      },
      "execution_count": null,
      "outputs": []
    },
    {
      "cell_type": "code",
      "source": [
        "history_rmsprop=build_and_train_model(optimizer)"
      ],
      "metadata": {
        "id": "Rjn5XuvuDgkY"
      },
      "execution_count": null,
      "outputs": []
    },
    {
      "cell_type": "markdown",
      "source": [
        "#Adam optimization"
      ],
      "metadata": {
        "id": "amBE5Xy8DsgA"
      }
    },
    {
      "cell_type": "code",
      "source": [
        "optimizer=tf.keras.optimizers.Adam(learning_rate=0.001,beta_1=0.9,beta_2=0.999)"
      ],
      "metadata": {
        "id": "B0nLD1vxDwUz"
      },
      "execution_count": null,
      "outputs": []
    },
    {
      "cell_type": "code",
      "source": [
        "history_adam=build_and_train_model(optimizer)"
      ],
      "metadata": {
        "id": "jAtBjm2FD40j"
      },
      "execution_count": null,
      "outputs": []
    },
    {
      "cell_type": "markdown",
      "source": [
        "#Adamax Optimizer"
      ],
      "metadata": {
        "id": "FKkcuZMUEITb"
      }
    },
    {
      "cell_type": "markdown",
      "source": [
        "adamax ada ile eynidi sadece modul da yazilir formula"
      ],
      "metadata": {
        "id": "2JV7MbbCEavb"
      }
    },
    {
      "cell_type": "code",
      "source": [
        "optimizer=tf.keras.optimizers.Adamax(learning_rate=0.001, beta_1=0.9, beta_2=0.999)"
      ],
      "metadata": {
        "id": "BpwhTwriEQlr"
      },
      "execution_count": null,
      "outputs": []
    },
    {
      "cell_type": "code",
      "source": [
        "history_adam=build_and_train_model(optimizer)"
      ],
      "metadata": {
        "id": "TmOZQN06EZQE"
      },
      "execution_count": null,
      "outputs": []
    },
    {
      "cell_type": "markdown",
      "source": [
        "#Nadam optimizer"
      ],
      "metadata": {
        "id": "t1Y9ijE4Eg2x"
      }
    },
    {
      "cell_type": "code",
      "source": [
        "optimizer=tf.keras.optimizers.Nadam(learning_rate=0.001, beta_1=0.9, beta_2=0.999)"
      ],
      "metadata": {
        "id": "2pdnHYzkEnYf"
      },
      "execution_count": null,
      "outputs": []
    },
    {
      "cell_type": "markdown",
      "source": [
        "#AdamW Optimization adam weight decay"
      ],
      "metadata": {
        "id": "EqfrtcSbEzK7"
      }
    },
    {
      "cell_type": "code",
      "source": [
        "history_adam=build_and_train_model(optimizer)"
      ],
      "metadata": {
        "id": "8yn-EkVVEkH7"
      },
      "execution_count": null,
      "outputs": []
    },
    {
      "cell_type": "markdown",
      "source": [
        "overfit olarsa isletmek olar L2 Ile eyni menaya gelir adama a birbasa regularization elave etmek olmur ama AdamW yazmaq decay istifade etmek eyni menya gelir"
      ],
      "metadata": {
        "id": "L9-7xwUsFEdt"
      }
    },
    {
      "cell_type": "code",
      "source": [
        "optimizer=tf.keras.optimizers.AdamW(weight_decay=1e-5,learning_rate=0.001, beta_1=0.9, beta_2=0.999)"
      ],
      "metadata": {
        "id": "w5KxEhMgE2gj"
      },
      "execution_count": null,
      "outputs": []
    },
    {
      "cell_type": "code",
      "source": [
        "history_adam=build_and_train_model(optimizer)"
      ],
      "metadata": {
        "id": "jil2OPVoE9JO"
      },
      "execution_count": null,
      "outputs": []
    },
    {
      "cell_type": "markdown",
      "source": [
        "#Learning rate Scheduling"
      ],
      "metadata": {
        "id": "jdPFvAMyFS_L"
      }
    },
    {
      "cell_type": "code",
      "source": [
        "lr_schedule=tf.keras.optimizers.schedules.InverseTimeDecay(\n",
        "    initial_learning_rate=0.01,\n",
        "    decay_steps=10_000,\n",
        "    decay_rate=1.0,\n",
        "    staircase=False\n",
        ")\n",
        "optimizer=tf.keras.optimizers.SGD(learning_rate=lr_schedule)"
      ],
      "metadata": {
        "id": "Wlhwtv7UGRBj"
      },
      "execution_count": null,
      "outputs": []
    },
    {
      "cell_type": "markdown",
      "source": [
        "#Exponential scheduleing"
      ],
      "metadata": {
        "id": "ukLfuHLxG-By"
      }
    },
    {
      "cell_type": "code",
      "source": [
        "lr_schedule=tf.keras.optimizers.schedules.ExponentialDecay(\n",
        "    initial_learning_rate=0.01,\n",
        "    decay_steps=20_000,\n",
        "    decay_rate=0.1,\n",
        "    staircase=False\n",
        ")\n",
        "optimizer=tf.keras.optimizers.SGD(learning_rate=lr_schedule)"
      ],
      "metadata": {
        "id": "5BIR5tPAHL6F"
      },
      "execution_count": null,
      "outputs": []
    },
    {
      "cell_type": "code",
      "source": [
        "history_exponential_scheduling=build_and_train_model(optimizer)"
      ],
      "metadata": {
        "id": "11VEA7yzHR0v"
      },
      "execution_count": null,
      "outputs": []
    },
    {
      "cell_type": "markdown",
      "source": [
        "#Piecewise constant Scheduling"
      ],
      "metadata": {
        "id": "lX7u3cIYHsJK"
      }
    },
    {
      "cell_type": "code",
      "source": [
        "lr_schedule=tf.keras.optimizers.schedules.PiecewiseConstantDecay(\n",
        "    boundaries=[50_000,80_000],\n",
        "    values=[0.01,0.005,0.001]\n",
        ")"
      ],
      "metadata": {
        "id": "kVV5Wr40H0PI"
      },
      "execution_count": null,
      "outputs": []
    },
    {
      "cell_type": "code",
      "source": [
        "optimizer=tf.keras.optimizers.SGD(learning_rate=lr_schedule)"
      ],
      "metadata": {
        "id": "CQFIMKv_IKSW"
      },
      "execution_count": null,
      "outputs": []
    },
    {
      "cell_type": "code",
      "source": [
        "history_piece_decay=build_and_train_model(optimizer)"
      ],
      "metadata": {
        "id": "3Nv_S5uzIPMb"
      },
      "execution_count": null,
      "outputs": []
    },
    {
      "cell_type": "markdown",
      "source": [
        "#Avoiding Overfitting Through Regularizatin"
      ],
      "metadata": {
        "id": "u35lEljCP3d5"
      }
    },
    {
      "cell_type": "code",
      "source": [
        "layer=tf.keras.layers.Dense(100,activation='relu',\n",
        "                            kernel_initializer='he_normal',\n",
        "                            kernel_regularizer=tf.keras.regularizers.l2(0.01))"
      ],
      "metadata": {
        "id": "_NValAB2P-TY"
      },
      "execution_count": null,
      "outputs": []
    },
    {
      "cell_type": "code",
      "source": [
        "from functools import partial\n",
        "RegularizedDense=partial(\n",
        "    tf.keras.layers.Dense,\n",
        "    activation='relu',\n",
        "    kernel_initializer='he_normal',\n",
        "    kernel_regularizer=tf.keras.regularizers.l1(0.01)\n",
        "\n",
        ")\n",
        "\n",
        "model=tf.keras.Sequential([\n",
        "    tf.keras.layers.Input(shape=[28,28]),\n",
        "    tf.keras.layers.Flatten(),\n",
        "    RegularizedDense(300),\n",
        "    RegularizedDense(200),\n",
        "    RegularizedDense(10, activation='softmax', kernel_initializer='glorot_normal')\n",
        "\n",
        "])\n",
        "\n"
      ],
      "metadata": {
        "id": "hAnn4SLDQRp7"
      },
      "execution_count": null,
      "outputs": []
    },
    {
      "cell_type": "code",
      "source": [
        "model.compile(loss='sparse_categorical_crossentropy',\n",
        "              optimizer=tf.keras.optimizers.SGD(learning_rate=1e-3, momentum=0.9, nesterov=True),\n",
        "              metrics=['accuracy'])"
      ],
      "metadata": {
        "id": "-z0kDxIlSN6c"
      },
      "execution_count": null,
      "outputs": []
    },
    {
      "cell_type": "code",
      "source": [
        "model.fit(X_train,y_train, epochs=2, validation_data=(X_valid,y_valid))"
      ],
      "metadata": {
        "id": "EcVlEqYuSr1W"
      },
      "execution_count": null,
      "outputs": []
    },
    {
      "cell_type": "markdown",
      "source": [
        "#Dropout"
      ],
      "metadata": {
        "id": "TfVusqsrUMTV"
      }
    },
    {
      "cell_type": "code",
      "source": [
        "fashion_mnist=tf.keras.datasets.fashion_mnist.load_data()\n",
        "(X_train_full, y_train_full), (X_test, y_test)=fashion_mnist\n",
        "X_train, y_train=X_train_full[:-5000], y_train_full[:-5000]\n",
        "X_valid, y_valid=X_train_full[-5000:],y_train_full[-5000:]\n",
        "X_train,X_valid,X_test=X_train/255.0, X_valid/255.0,X_test/255.0"
      ],
      "metadata": {
        "id": "D5c8G2tPTdVC"
      },
      "execution_count": null,
      "outputs": []
    },
    {
      "cell_type": "code",
      "source": [
        "model=tf.keras.Sequential([\n",
        "    tf.keras.layers.Input(shape=[28,28]),\n",
        "    tf.keras.layers.Flatten(),\n",
        "    tf.keras.layers.Dropout(rate=0.2),\n",
        "    tf.keras.layers.Dense(300, activation='relu', kernel_initializer='he_normal'),\n",
        "    tf.keras.layers.Dropout(rate=0.2),\n",
        "    tf.keras.layers.Dense(100, activation='relu', kernel_initializer='he_normal'),\n",
        "    tf.keras.layers.Dropout(rate=0.2),\n",
        "    tf.keras.layers.Dense(10, activation='softmax', kernel_initializer='glorot_normal'),\n",
        "\n",
        "])"
      ],
      "metadata": {
        "id": "cq8Kir7dUTxP"
      },
      "execution_count": null,
      "outputs": []
    },
    {
      "cell_type": "code",
      "source": [
        "model.compile(loss='sparse_categorical_crossentropy',\n",
        "              optimizer=tf.keras.optimizers.SGD(learning_rate=1e-3, momentum=0.9, nesterov=True),\n",
        "              metrics=['accuracy'])"
      ],
      "metadata": {
        "id": "HOQLmqwmV0tQ"
      },
      "execution_count": null,
      "outputs": []
    },
    {
      "cell_type": "code",
      "source": [
        "model.fit(X_train, y_train, epochs=2, validation_data=(X_valid, y_valid))"
      ],
      "metadata": {
        "colab": {
          "base_uri": "https://localhost:8080/"
        },
        "id": "DhFbPcPXWI6d",
        "outputId": "b4ade6ac-c781-45bc-88d9-3567004096a7"
      },
      "execution_count": null,
      "outputs": [
        {
          "output_type": "stream",
          "name": "stdout",
          "text": [
            "Epoch 1/2\n",
            "\u001b[1m1719/1719\u001b[0m \u001b[32m━━━━━━━━━━━━━━━━━━━━\u001b[0m\u001b[37m\u001b[0m \u001b[1m9s\u001b[0m 4ms/step - accuracy: 0.5712 - loss: 1.2217 - val_accuracy: 0.8052 - val_loss: 0.5606\n",
            "Epoch 2/2\n",
            "\u001b[1m1719/1719\u001b[0m \u001b[32m━━━━━━━━━━━━━━━━━━━━\u001b[0m\u001b[37m\u001b[0m \u001b[1m6s\u001b[0m 2ms/step - accuracy: 0.7640 - loss: 0.6585 - val_accuracy: 0.8298 - val_loss: 0.4873\n"
          ]
        },
        {
          "output_type": "execute_result",
          "data": {
            "text/plain": [
              "<keras.src.callbacks.history.History at 0x79d987d2fd50>"
            ]
          },
          "metadata": {},
          "execution_count": 60
        }
      ]
    },
    {
      "cell_type": "code",
      "source": [
        "model.evaluate(X_train, y_train)"
      ],
      "metadata": {
        "colab": {
          "base_uri": "https://localhost:8080/"
        },
        "id": "V30mSgS_XK1z",
        "outputId": "fe7665f6-68e1-467a-e53a-c1c843b9849d"
      },
      "execution_count": null,
      "outputs": [
        {
          "output_type": "stream",
          "name": "stdout",
          "text": [
            "\u001b[1m1719/1719\u001b[0m \u001b[32m━━━━━━━━━━━━━━━━━━━━\u001b[0m\u001b[37m\u001b[0m \u001b[1m4s\u001b[0m 3ms/step - accuracy: 0.8299 - loss: 0.4929\n"
          ]
        },
        {
          "output_type": "execute_result",
          "data": {
            "text/plain": [
              "[0.4960707426071167, 0.8286908864974976]"
            ]
          },
          "metadata": {},
          "execution_count": 61
        }
      ]
    },
    {
      "cell_type": "code",
      "source": [
        "model.evaluate(X_test, y_test)"
      ],
      "metadata": {
        "colab": {
          "base_uri": "https://localhost:8080/"
        },
        "id": "smFn1FjMXOPO",
        "outputId": "77b9b96a-bc02-4822-d391-dded0de15f69"
      },
      "execution_count": null,
      "outputs": [
        {
          "output_type": "stream",
          "name": "stdout",
          "text": [
            "\u001b[1m313/313\u001b[0m \u001b[32m━━━━━━━━━━━━━━━━━━━━\u001b[0m\u001b[37m\u001b[0m \u001b[1m1s\u001b[0m 3ms/step - accuracy: 0.8240 - loss: 0.5097\n"
          ]
        },
        {
          "output_type": "execute_result",
          "data": {
            "text/plain": [
              "[0.5178588628768921, 0.8184000253677368]"
            ]
          },
          "metadata": {},
          "execution_count": 62
        }
      ]
    },
    {
      "cell_type": "markdown",
      "source": [
        "#MC Monte Carlo Dropout"
      ],
      "metadata": {
        "id": "R0489ybPXi8A"
      }
    },
    {
      "cell_type": "code",
      "source": [
        "tf.random.set_seed(42)"
      ],
      "metadata": {
        "id": "_HNNvxhYYKBn"
      },
      "execution_count": null,
      "outputs": []
    },
    {
      "cell_type": "code",
      "source": [
        "y_probas=np.stack([model(X_test, training=True) for _ in range(100) ])"
      ],
      "metadata": {
        "id": "sfrmHIuZXxoI"
      },
      "execution_count": null,
      "outputs": []
    },
    {
      "cell_type": "code",
      "source": [
        "y_probas.shape"
      ],
      "metadata": {
        "colab": {
          "base_uri": "https://localhost:8080/"
        },
        "id": "DHadZSwQYPiz",
        "outputId": "7e6042a3-9798-4dc0-fbcc-b01c3aebd5ad"
      },
      "execution_count": null,
      "outputs": [
        {
          "output_type": "execute_result",
          "data": {
            "text/plain": [
              "(100, 10000, 10)"
            ]
          },
          "metadata": {},
          "execution_count": 51
        }
      ]
    },
    {
      "cell_type": "code",
      "source": [
        "y_proba=y_probas.mean(axis=0)"
      ],
      "metadata": {
        "id": "mjpD_QQOYPRk"
      },
      "execution_count": null,
      "outputs": []
    },
    {
      "cell_type": "code",
      "source": [
        "model.predict(X_test[:1]).round(3)"
      ],
      "metadata": {
        "colab": {
          "base_uri": "https://localhost:8080/"
        },
        "id": "i91UrkjmZLlh",
        "outputId": "a1b8451a-a3ef-447c-e08b-16181a8b0677"
      },
      "execution_count": null,
      "outputs": [
        {
          "output_type": "stream",
          "name": "stdout",
          "text": [
            "\u001b[1m1/1\u001b[0m \u001b[32m━━━━━━━━━━━━━━━━━━━━\u001b[0m\u001b[37m\u001b[0m \u001b[1m0s\u001b[0m 339ms/step\n"
          ]
        },
        {
          "output_type": "execute_result",
          "data": {
            "text/plain": [
              "array([[0.   , 0.   , 0.   , 0.   , 0.   , 0.008, 0.   , 0.007, 0.   ,\n",
              "        0.985]], dtype=float32)"
            ]
          },
          "metadata": {},
          "execution_count": 53
        }
      ]
    },
    {
      "cell_type": "code",
      "source": [
        "y_proba[0].round(3)"
      ],
      "metadata": {
        "colab": {
          "base_uri": "https://localhost:8080/"
        },
        "id": "t0oTXI2aZSVj",
        "outputId": "4de81581-aaad-460b-bc57-747eafd50cce"
      },
      "execution_count": null,
      "outputs": [
        {
          "output_type": "execute_result",
          "data": {
            "text/plain": [
              "array([0.   , 0.   , 0.   , 0.   , 0.   , 0.009, 0.   , 0.005, 0.   ,\n",
              "       0.986], dtype=float32)"
            ]
          },
          "metadata": {},
          "execution_count": 54
        }
      ]
    },
    {
      "cell_type": "code",
      "source": [
        "y_std=y_probas.std(axis=0)\n",
        "y_std[0].round(3)"
      ],
      "metadata": {
        "colab": {
          "base_uri": "https://localhost:8080/"
        },
        "id": "7jmJT_LdZYHn",
        "outputId": "54abc6ed-478a-434b-a23b-95370f9a2aea"
      },
      "execution_count": null,
      "outputs": [
        {
          "output_type": "execute_result",
          "data": {
            "text/plain": [
              "array([0., 0., 0., 0., 0., 0., 0., 0., 0., 0.], dtype=float32)"
            ]
          },
          "metadata": {},
          "execution_count": 55
        }
      ]
    },
    {
      "cell_type": "code",
      "source": [
        "y_pred=np.argmax(y_proba, axis=1)\n",
        "accuracy=np.sum(y_pred==y_test)/len(y_test)\n",
        "accuracy"
      ],
      "metadata": {
        "colab": {
          "base_uri": "https://localhost:8080/"
        },
        "id": "Wn8VAlOZZ_hB",
        "outputId": "c060046e-5108-4c15-d018-97a32c1e82d9"
      },
      "execution_count": null,
      "outputs": [
        {
          "output_type": "execute_result",
          "data": {
            "text/plain": [
              "0.8635"
            ]
          },
          "metadata": {},
          "execution_count": 56
        }
      ]
    },
    {
      "cell_type": "code",
      "source": [
        "class MCDropout(tf.keras.layers.Dropout):\n",
        "  def call(self,inputs,training=True):\n",
        "    return super().call(inputs,training=True)\n",
        "Dropout=tf.keras.layers.Dropout\n",
        "mc_model =tf.keras.Sequential([\n",
        "    MCDropout(layer.rate) if isinstance(layer,Dropout) else layer\n",
        "    for layer in model.layers\n",
        "\n",
        "])\n",
        "mc_model.set_weights(model.get_weights())\n",
        "mc_model.summary()"
      ],
      "metadata": {
        "colab": {
          "base_uri": "https://localhost:8080/",
          "height": 353
        },
        "id": "tTGw2D98ZDi7",
        "outputId": "f2e5cccb-a519-408b-d9cc-bdfc55338dcd"
      },
      "execution_count": null,
      "outputs": [
        {
          "output_type": "display_data",
          "data": {
            "text/plain": [
              "\u001b[1mModel: \"sequential_10\"\u001b[0m\n"
            ],
            "text/html": [
              "<pre style=\"white-space:pre;overflow-x:auto;line-height:normal;font-family:Menlo,'DejaVu Sans Mono',consolas,'Courier New',monospace\"><span style=\"font-weight: bold\">Model: \"sequential_10\"</span>\n",
              "</pre>\n"
            ]
          },
          "metadata": {}
        },
        {
          "output_type": "display_data",
          "data": {
            "text/plain": [
              "┏━━━━━━━━━━━━━━━━━━━━━━━━━━━━━━━━━━━━━━┳━━━━━━━━━━━━━━━━━━━━━━━━━━━━━┳━━━━━━━━━━━━━━━━━┓\n",
              "┃\u001b[1m \u001b[0m\u001b[1mLayer (type)                        \u001b[0m\u001b[1m \u001b[0m┃\u001b[1m \u001b[0m\u001b[1mOutput Shape               \u001b[0m\u001b[1m \u001b[0m┃\u001b[1m \u001b[0m\u001b[1m        Param #\u001b[0m\u001b[1m \u001b[0m┃\n",
              "┡━━━━━━━━━━━━━━━━━━━━━━━━━━━━━━━━━━━━━━╇━━━━━━━━━━━━━━━━━━━━━━━━━━━━━╇━━━━━━━━━━━━━━━━━┩\n",
              "│ flatten_6 (\u001b[38;5;33mFlatten\u001b[0m)                  │ (\u001b[38;5;45mNone\u001b[0m, \u001b[38;5;34m784\u001b[0m)                 │               \u001b[38;5;34m0\u001b[0m │\n",
              "├──────────────────────────────────────┼─────────────────────────────┼─────────────────┤\n",
              "│ mc_dropout (\u001b[38;5;33mMCDropout\u001b[0m)               │ ?                           │               \u001b[38;5;34m0\u001b[0m │\n",
              "├──────────────────────────────────────┼─────────────────────────────┼─────────────────┤\n",
              "│ dense_21 (\u001b[38;5;33mDense\u001b[0m)                     │ (\u001b[38;5;45mNone\u001b[0m, \u001b[38;5;34m300\u001b[0m)                 │         \u001b[38;5;34m235,500\u001b[0m │\n",
              "├──────────────────────────────────────┼─────────────────────────────┼─────────────────┤\n",
              "│ mc_dropout_1 (\u001b[38;5;33mMCDropout\u001b[0m)             │ ?                           │               \u001b[38;5;34m0\u001b[0m │\n",
              "├──────────────────────────────────────┼─────────────────────────────┼─────────────────┤\n",
              "│ dense_22 (\u001b[38;5;33mDense\u001b[0m)                     │ (\u001b[38;5;45mNone\u001b[0m, \u001b[38;5;34m100\u001b[0m)                 │          \u001b[38;5;34m30,100\u001b[0m │\n",
              "├──────────────────────────────────────┼─────────────────────────────┼─────────────────┤\n",
              "│ mc_dropout_2 (\u001b[38;5;33mMCDropout\u001b[0m)             │ ?                           │               \u001b[38;5;34m0\u001b[0m │\n",
              "├──────────────────────────────────────┼─────────────────────────────┼─────────────────┤\n",
              "│ dense_23 (\u001b[38;5;33mDense\u001b[0m)                     │ (\u001b[38;5;45mNone\u001b[0m, \u001b[38;5;34m10\u001b[0m)                  │           \u001b[38;5;34m1,010\u001b[0m │\n",
              "└──────────────────────────────────────┴─────────────────────────────┴─────────────────┘\n"
            ],
            "text/html": [
              "<pre style=\"white-space:pre;overflow-x:auto;line-height:normal;font-family:Menlo,'DejaVu Sans Mono',consolas,'Courier New',monospace\">┏━━━━━━━━━━━━━━━━━━━━━━━━━━━━━━━━━━━━━━┳━━━━━━━━━━━━━━━━━━━━━━━━━━━━━┳━━━━━━━━━━━━━━━━━┓\n",
              "┃<span style=\"font-weight: bold\"> Layer (type)                         </span>┃<span style=\"font-weight: bold\"> Output Shape                </span>┃<span style=\"font-weight: bold\">         Param # </span>┃\n",
              "┡━━━━━━━━━━━━━━━━━━━━━━━━━━━━━━━━━━━━━━╇━━━━━━━━━━━━━━━━━━━━━━━━━━━━━╇━━━━━━━━━━━━━━━━━┩\n",
              "│ flatten_6 (<span style=\"color: #0087ff; text-decoration-color: #0087ff\">Flatten</span>)                  │ (<span style=\"color: #00d7ff; text-decoration-color: #00d7ff\">None</span>, <span style=\"color: #00af00; text-decoration-color: #00af00\">784</span>)                 │               <span style=\"color: #00af00; text-decoration-color: #00af00\">0</span> │\n",
              "├──────────────────────────────────────┼─────────────────────────────┼─────────────────┤\n",
              "│ mc_dropout (<span style=\"color: #0087ff; text-decoration-color: #0087ff\">MCDropout</span>)               │ ?                           │               <span style=\"color: #00af00; text-decoration-color: #00af00\">0</span> │\n",
              "├──────────────────────────────────────┼─────────────────────────────┼─────────────────┤\n",
              "│ dense_21 (<span style=\"color: #0087ff; text-decoration-color: #0087ff\">Dense</span>)                     │ (<span style=\"color: #00d7ff; text-decoration-color: #00d7ff\">None</span>, <span style=\"color: #00af00; text-decoration-color: #00af00\">300</span>)                 │         <span style=\"color: #00af00; text-decoration-color: #00af00\">235,500</span> │\n",
              "├──────────────────────────────────────┼─────────────────────────────┼─────────────────┤\n",
              "│ mc_dropout_1 (<span style=\"color: #0087ff; text-decoration-color: #0087ff\">MCDropout</span>)             │ ?                           │               <span style=\"color: #00af00; text-decoration-color: #00af00\">0</span> │\n",
              "├──────────────────────────────────────┼─────────────────────────────┼─────────────────┤\n",
              "│ dense_22 (<span style=\"color: #0087ff; text-decoration-color: #0087ff\">Dense</span>)                     │ (<span style=\"color: #00d7ff; text-decoration-color: #00d7ff\">None</span>, <span style=\"color: #00af00; text-decoration-color: #00af00\">100</span>)                 │          <span style=\"color: #00af00; text-decoration-color: #00af00\">30,100</span> │\n",
              "├──────────────────────────────────────┼─────────────────────────────┼─────────────────┤\n",
              "│ mc_dropout_2 (<span style=\"color: #0087ff; text-decoration-color: #0087ff\">MCDropout</span>)             │ ?                           │               <span style=\"color: #00af00; text-decoration-color: #00af00\">0</span> │\n",
              "├──────────────────────────────────────┼─────────────────────────────┼─────────────────┤\n",
              "│ dense_23 (<span style=\"color: #0087ff; text-decoration-color: #0087ff\">Dense</span>)                     │ (<span style=\"color: #00d7ff; text-decoration-color: #00d7ff\">None</span>, <span style=\"color: #00af00; text-decoration-color: #00af00\">10</span>)                  │           <span style=\"color: #00af00; text-decoration-color: #00af00\">1,010</span> │\n",
              "└──────────────────────────────────────┴─────────────────────────────┴─────────────────┘\n",
              "</pre>\n"
            ]
          },
          "metadata": {}
        },
        {
          "output_type": "display_data",
          "data": {
            "text/plain": [
              "\u001b[1m Total params: \u001b[0m\u001b[38;5;34m266,610\u001b[0m (1.02 MB)\n"
            ],
            "text/html": [
              "<pre style=\"white-space:pre;overflow-x:auto;line-height:normal;font-family:Menlo,'DejaVu Sans Mono',consolas,'Courier New',monospace\"><span style=\"font-weight: bold\"> Total params: </span><span style=\"color: #00af00; text-decoration-color: #00af00\">266,610</span> (1.02 MB)\n",
              "</pre>\n"
            ]
          },
          "metadata": {}
        },
        {
          "output_type": "display_data",
          "data": {
            "text/plain": [
              "\u001b[1m Trainable params: \u001b[0m\u001b[38;5;34m266,610\u001b[0m (1.02 MB)\n"
            ],
            "text/html": [
              "<pre style=\"white-space:pre;overflow-x:auto;line-height:normal;font-family:Menlo,'DejaVu Sans Mono',consolas,'Courier New',monospace\"><span style=\"font-weight: bold\"> Trainable params: </span><span style=\"color: #00af00; text-decoration-color: #00af00\">266,610</span> (1.02 MB)\n",
              "</pre>\n"
            ]
          },
          "metadata": {}
        },
        {
          "output_type": "display_data",
          "data": {
            "text/plain": [
              "\u001b[1m Non-trainable params: \u001b[0m\u001b[38;5;34m0\u001b[0m (0.00 B)\n"
            ],
            "text/html": [
              "<pre style=\"white-space:pre;overflow-x:auto;line-height:normal;font-family:Menlo,'DejaVu Sans Mono',consolas,'Courier New',monospace\"><span style=\"font-weight: bold\"> Non-trainable params: </span><span style=\"color: #00af00; text-decoration-color: #00af00\">0</span> (0.00 B)\n",
              "</pre>\n"
            ]
          },
          "metadata": {}
        }
      ]
    },
    {
      "cell_type": "markdown",
      "source": [
        "#Max Norm"
      ],
      "metadata": {
        "id": "QnW0X4hbbVNY"
      }
    },
    {
      "cell_type": "code",
      "source": [
        "dense=tf.keras.layers.Dense(100,activation='relu', kernel_initializer='he_normal',kernel_constraint=tf.keras.constraints.max_norm(1.))\n",
        "\n"
      ],
      "metadata": {
        "id": "3YPhRG_idBTr"
      },
      "execution_count": null,
      "outputs": []
    },
    {
      "cell_type": "code",
      "source": [
        "MaxNormDense=partial(tf.keras.layers.Dense,\n",
        "                     activation='relu',kernel_initializer='he_normal',kernel_constraint=tf.keras.constraints.max_norm(1.))\n",
        "\n",
        "tf.random.set_seed(42)\n",
        "model=tf.keras.Sequential([\n",
        "    tf.keras.layers.Input(shape=[28,28]),\n",
        "    tf.keras.layers.Flatten(),\n",
        "    MaxNormDense(100),\n",
        "    MaxNormDense(100),\n",
        "    tf.keras.layers.Dense(10,activation='softmax', kernel_initializer='glorot_normal')\n",
        "])\n",
        "\n",
        "optimizer=tf.keras.optimizers.SGD(learning_rate=0.01,momentum=0.9)\n",
        "model.compile(loss='sparse_categorical_crossentropy', optimizer=optimizer,\n",
        "              metrics=['accuracy'])\n",
        "history=model.fit(X_train,y_train,epochs=10,validation_data=(X_valid,y_valid))"
      ],
      "metadata": {
        "colab": {
          "base_uri": "https://localhost:8080/"
        },
        "id": "WLZ_giyqdZh9",
        "outputId": "68efb8e4-5a59-4f69-a662-1de3ad8839f7"
      },
      "execution_count": null,
      "outputs": [
        {
          "output_type": "stream",
          "name": "stdout",
          "text": [
            "Epoch 1/10\n",
            "\u001b[1m1719/1719\u001b[0m \u001b[32m━━━━━━━━━━━━━━━━━━━━\u001b[0m\u001b[37m\u001b[0m \u001b[1m7s\u001b[0m 3ms/step - accuracy: 0.7388 - loss: 0.7304 - val_accuracy: 0.8258 - val_loss: 0.4514\n",
            "Epoch 2/10\n",
            "\u001b[1m1719/1719\u001b[0m \u001b[32m━━━━━━━━━━━━━━━━━━━━\u001b[0m\u001b[37m\u001b[0m \u001b[1m5s\u001b[0m 3ms/step - accuracy: 0.8464 - loss: 0.4256 - val_accuracy: 0.8362 - val_loss: 0.4237\n",
            "Epoch 3/10\n",
            "\u001b[1m1719/1719\u001b[0m \u001b[32m━━━━━━━━━━━━━━━━━━━━\u001b[0m\u001b[37m\u001b[0m \u001b[1m4s\u001b[0m 2ms/step - accuracy: 0.8580 - loss: 0.3893 - val_accuracy: 0.8340 - val_loss: 0.4304\n",
            "Epoch 4/10\n",
            "\u001b[1m1719/1719\u001b[0m \u001b[32m━━━━━━━━━━━━━━━━━━━━\u001b[0m\u001b[37m\u001b[0m \u001b[1m4s\u001b[0m 3ms/step - accuracy: 0.8653 - loss: 0.3651 - val_accuracy: 0.8412 - val_loss: 0.4171\n",
            "Epoch 5/10\n",
            "\u001b[1m1719/1719\u001b[0m \u001b[32m━━━━━━━━━━━━━━━━━━━━\u001b[0m\u001b[37m\u001b[0m \u001b[1m5s\u001b[0m 3ms/step - accuracy: 0.8683 - loss: 0.3542 - val_accuracy: 0.8500 - val_loss: 0.3980\n",
            "Epoch 6/10\n",
            "\u001b[1m1719/1719\u001b[0m \u001b[32m━━━━━━━━━━━━━━━━━━━━\u001b[0m\u001b[37m\u001b[0m \u001b[1m5s\u001b[0m 2ms/step - accuracy: 0.8717 - loss: 0.3424 - val_accuracy: 0.8350 - val_loss: 0.4178\n",
            "Epoch 7/10\n",
            "\u001b[1m1719/1719\u001b[0m \u001b[32m━━━━━━━━━━━━━━━━━━━━\u001b[0m\u001b[37m\u001b[0m \u001b[1m6s\u001b[0m 3ms/step - accuracy: 0.8755 - loss: 0.3349 - val_accuracy: 0.8416 - val_loss: 0.4009\n",
            "Epoch 8/10\n",
            "\u001b[1m1719/1719\u001b[0m \u001b[32m━━━━━━━━━━━━━━━━━━━━\u001b[0m\u001b[37m\u001b[0m \u001b[1m4s\u001b[0m 3ms/step - accuracy: 0.8765 - loss: 0.3310 - val_accuracy: 0.8450 - val_loss: 0.4114\n",
            "Epoch 9/10\n",
            "\u001b[1m1719/1719\u001b[0m \u001b[32m━━━━━━━━━━━━━━━━━━━━\u001b[0m\u001b[37m\u001b[0m \u001b[1m6s\u001b[0m 3ms/step - accuracy: 0.8784 - loss: 0.3245 - val_accuracy: 0.8462 - val_loss: 0.3959\n",
            "Epoch 10/10\n",
            "\u001b[1m1719/1719\u001b[0m \u001b[32m━━━━━━━━━━━━━━━━━━━━\u001b[0m\u001b[37m\u001b[0m \u001b[1m4s\u001b[0m 2ms/step - accuracy: 0.8796 - loss: 0.3194 - val_accuracy: 0.8430 - val_loss: 0.4163\n"
          ]
        }
      ]
    }
  ]
}